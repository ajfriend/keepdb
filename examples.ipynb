{
 "cells": [
  {
   "cell_type": "code",
   "execution_count": 1,
   "id": "06c1cab0-62b7-458d-91f4-009f9fb7d1f7",
   "metadata": {},
   "outputs": [],
   "source": [
    "import keepdb\n",
    "\n",
    "import pandas as pd\n",
    "import pyarrow as pa\n",
    "import seaborn as sns\n",
    "\n",
    "import tempfile"
   ]
  },
  {
   "cell_type": "code",
   "execution_count": 34,
   "id": "ae90ea12-9340-4c30-89f9-824fdac0a9c7",
   "metadata": {},
   "outputs": [
    {
     "name": "stdout",
     "output_type": "stream",
     "text": [
      "<class 'pandas.core.frame.DataFrame'>\n",
      "RangeIndex: 53940 entries, 0 to 53939\n",
      "Data columns (total 10 columns):\n",
      " #   Column   Non-Null Count  Dtype   \n",
      "---  ------   --------------  -----   \n",
      " 0   carat    53940 non-null  float64 \n",
      " 1   cut      53940 non-null  category\n",
      " 2   color    53940 non-null  category\n",
      " 3   clarity  53940 non-null  category\n",
      " 4   depth    53940 non-null  float64 \n",
      " 5   table    53940 non-null  float64 \n",
      " 6   price    53940 non-null  int64   \n",
      " 7   x        53940 non-null  float64 \n",
      " 8   y        53940 non-null  float64 \n",
      " 9   z        53940 non-null  float64 \n",
      "dtypes: category(3), float64(6), int64(1)\n",
      "memory usage: 3.0 MB\n"
     ]
    }
   ],
   "source": [
    "to_pyarrow(dfict['diamonds']).to_pandas().info()"
   ]
  },
  {
   "cell_type": "code",
   "execution_count": 26,
   "id": "920c28f9-9492-4149-9f34-d541e741f697",
   "metadata": {},
   "outputs": [],
   "source": [
    "out = pa.Table.from_pandas(dfict['diamonds'], preserve_index=False)"
   ]
  },
  {
   "cell_type": "code",
   "execution_count": 27,
   "id": "ec3cb601-dbb6-4760-ae45-87fe652c6734",
   "metadata": {},
   "outputs": [
    {
     "ename": "AttributeError",
     "evalue": "'list' object has no attribute 'is_unique'",
     "output_type": "error",
     "traceback": [
      "\u001b[0;31m---------------------------------------------------------------------------\u001b[0m",
      "\u001b[0;31mAttributeError\u001b[0m                            Traceback (most recent call last)",
      "Cell \u001b[0;32mIn[27], line 1\u001b[0m\n\u001b[0;32m----> 1\u001b[0m out \u001b[38;5;241m=\u001b[39m \u001b[43mpa\u001b[49m\u001b[38;5;241;43m.\u001b[39;49m\u001b[43mTable\u001b[49m\u001b[38;5;241;43m.\u001b[39;49m\u001b[43mfrom_pandas\u001b[49m\u001b[43m(\u001b[49m\u001b[43mout\u001b[49m\u001b[43m,\u001b[49m\u001b[43m \u001b[49m\u001b[43mpreserve_index\u001b[49m\u001b[38;5;241;43m=\u001b[39;49m\u001b[38;5;28;43;01mFalse\u001b[39;49;00m\u001b[43m)\u001b[49m\n",
      "File \u001b[0;32m~/work/keepdb/env/lib/python3.11/site-packages/pyarrow/table.pxi:3874\u001b[0m, in \u001b[0;36mpyarrow.lib.Table.from_pandas\u001b[0;34m()\u001b[0m\n",
      "File \u001b[0;32m~/work/keepdb/env/lib/python3.11/site-packages/pyarrow/pandas_compat.py:570\u001b[0m, in \u001b[0;36mdataframe_to_arrays\u001b[0;34m(df, schema, preserve_index, nthreads, columns, safe)\u001b[0m\n\u001b[1;32m    562\u001b[0m \u001b[38;5;28;01mdef\u001b[39;00m \u001b[38;5;21mdataframe_to_arrays\u001b[39m(df, schema, preserve_index, nthreads\u001b[38;5;241m=\u001b[39m\u001b[38;5;241m1\u001b[39m, columns\u001b[38;5;241m=\u001b[39m\u001b[38;5;28;01mNone\u001b[39;00m,\n\u001b[1;32m    563\u001b[0m                         safe\u001b[38;5;241m=\u001b[39m\u001b[38;5;28;01mTrue\u001b[39;00m):\n\u001b[1;32m    564\u001b[0m     (all_names,\n\u001b[1;32m    565\u001b[0m      column_names,\n\u001b[1;32m    566\u001b[0m      index_column_names,\n\u001b[1;32m    567\u001b[0m      index_descriptors,\n\u001b[1;32m    568\u001b[0m      index_columns,\n\u001b[1;32m    569\u001b[0m      columns_to_convert,\n\u001b[0;32m--> 570\u001b[0m      convert_fields) \u001b[38;5;241m=\u001b[39m \u001b[43m_get_columns_to_convert\u001b[49m\u001b[43m(\u001b[49m\u001b[43mdf\u001b[49m\u001b[43m,\u001b[49m\u001b[43m \u001b[49m\u001b[43mschema\u001b[49m\u001b[43m,\u001b[49m\u001b[43m \u001b[49m\u001b[43mpreserve_index\u001b[49m\u001b[43m,\u001b[49m\n\u001b[1;32m    571\u001b[0m \u001b[43m                                               \u001b[49m\u001b[43mcolumns\u001b[49m\u001b[43m)\u001b[49m\n\u001b[1;32m    573\u001b[0m     \u001b[38;5;66;03m# NOTE(wesm): If nthreads=None, then we use a heuristic to decide whether\u001b[39;00m\n\u001b[1;32m    574\u001b[0m     \u001b[38;5;66;03m# using a thread pool is worth it. Currently the heuristic is whether the\u001b[39;00m\n\u001b[1;32m    575\u001b[0m     \u001b[38;5;66;03m# nrows > 100 * ncols and ncols > 1.\u001b[39;00m\n\u001b[1;32m    576\u001b[0m     \u001b[38;5;28;01mif\u001b[39;00m nthreads \u001b[38;5;129;01mis\u001b[39;00m \u001b[38;5;28;01mNone\u001b[39;00m:\n",
      "File \u001b[0;32m~/work/keepdb/env/lib/python3.11/site-packages/pyarrow/pandas_compat.py:351\u001b[0m, in \u001b[0;36m_get_columns_to_convert\u001b[0;34m(df, schema, preserve_index, columns)\u001b[0m\n\u001b[1;32m    348\u001b[0m \u001b[38;5;28;01mdef\u001b[39;00m \u001b[38;5;21m_get_columns_to_convert\u001b[39m(df, schema, preserve_index, columns):\n\u001b[1;32m    349\u001b[0m     columns \u001b[38;5;241m=\u001b[39m _resolve_columns_of_interest(df, schema, columns)\n\u001b[0;32m--> 351\u001b[0m     \u001b[38;5;28;01mif\u001b[39;00m \u001b[38;5;129;01mnot\u001b[39;00m \u001b[43mdf\u001b[49m\u001b[38;5;241;43m.\u001b[39;49m\u001b[43mcolumns\u001b[49m\u001b[38;5;241;43m.\u001b[39;49m\u001b[43mis_unique\u001b[49m:\n\u001b[1;32m    352\u001b[0m         \u001b[38;5;28;01mraise\u001b[39;00m \u001b[38;5;167;01mValueError\u001b[39;00m(\n\u001b[1;32m    353\u001b[0m             \u001b[38;5;124m'\u001b[39m\u001b[38;5;124mDuplicate column names found: \u001b[39m\u001b[38;5;132;01m{}\u001b[39;00m\u001b[38;5;124m'\u001b[39m\u001b[38;5;241m.\u001b[39mformat(\u001b[38;5;28mlist\u001b[39m(df\u001b[38;5;241m.\u001b[39mcolumns))\n\u001b[1;32m    354\u001b[0m         )\n\u001b[1;32m    356\u001b[0m     \u001b[38;5;28;01mif\u001b[39;00m schema \u001b[38;5;129;01mis\u001b[39;00m \u001b[38;5;129;01mnot\u001b[39;00m \u001b[38;5;28;01mNone\u001b[39;00m:\n",
      "\u001b[0;31mAttributeError\u001b[0m: 'list' object has no attribute 'is_unique'"
     ]
    }
   ],
   "source": [
    "out = pa.Table.from_pandas(out, preserve_index=False)"
   ]
  },
  {
   "cell_type": "code",
   "execution_count": null,
   "id": "7bedc8b6-5936-4011-abe3-bfe4d0f16e7f",
   "metadata": {},
   "outputs": [],
   "source": []
  },
  {
   "cell_type": "code",
   "execution_count": 2,
   "id": "83af9431-cc72-4540-8074-a8aa18234965",
   "metadata": {},
   "outputs": [
    {
     "data": {
      "text/plain": [
       "'0.0.42'"
      ]
     },
     "execution_count": 2,
     "metadata": {},
     "output_type": "execute_result"
    }
   ],
   "source": [
    "keepdb.__version__"
   ]
  },
  {
   "cell_type": "code",
   "execution_count": 3,
   "id": "a97178d4-ab85-4b14-94d3-485d306260b4",
   "metadata": {},
   "outputs": [],
   "source": [
    "f = tempfile.TemporaryFile()"
   ]
  },
  {
   "cell_type": "code",
   "execution_count": 4,
   "id": "94a11efd-43e9-46af-9ddd-1f248337594a",
   "metadata": {},
   "outputs": [],
   "source": [
    "keys = [\n",
    "    'diamonds',\n",
    "    'car_crashes',\n",
    "]\n",
    "\n",
    "dfict = {\n",
    "    k: sns.load_dataset(k)\n",
    "    for k in keys\n",
    "}\n"
   ]
  },
  {
   "cell_type": "code",
   "execution_count": 5,
   "id": "29631b8a-67b7-4dd4-a2e9-ca61d2c6237f",
   "metadata": {},
   "outputs": [],
   "source": [
    "keepdb.dfs_to_zip(f, dfict)"
   ]
  },
  {
   "cell_type": "code",
   "execution_count": 6,
   "id": "590126c7-c44a-42cd-b555-d02ed2cda207",
   "metadata": {},
   "outputs": [],
   "source": [
    "dfict2 = keepdb.zip_to_dfs(f)"
   ]
  },
  {
   "cell_type": "code",
   "execution_count": null,
   "id": "3ed4a3d5-81d6-4956-9d1d-70687c9440b7",
   "metadata": {},
   "outputs": [],
   "source": []
  },
  {
   "cell_type": "code",
   "execution_count": 7,
   "id": "d1e0c359-efb8-4772-bbbe-4198c06ee32d",
   "metadata": {},
   "outputs": [
    {
     "name": "stdout",
     "output_type": "stream",
     "text": [
      "<class 'pandas.core.frame.DataFrame'>\n",
      "RangeIndex: 53940 entries, 0 to 53939\n",
      "Data columns (total 10 columns):\n",
      " #   Column   Non-Null Count  Dtype   \n",
      "---  ------   --------------  -----   \n",
      " 0   carat    53940 non-null  float64 \n",
      " 1   cut      53940 non-null  category\n",
      " 2   color    53940 non-null  category\n",
      " 3   clarity  53940 non-null  category\n",
      " 4   depth    53940 non-null  float64 \n",
      " 5   table    53940 non-null  float64 \n",
      " 6   price    53940 non-null  int64   \n",
      " 7   x        53940 non-null  float64 \n",
      " 8   y        53940 non-null  float64 \n",
      " 9   z        53940 non-null  float64 \n",
      "dtypes: category(3), float64(6), int64(1)\n",
      "memory usage: 3.0 MB\n"
     ]
    }
   ],
   "source": [
    "dfict['diamonds'].info()"
   ]
  },
  {
   "cell_type": "code",
   "execution_count": 8,
   "id": "d3139c95-e144-4939-a4be-bdb7ba60c346",
   "metadata": {},
   "outputs": [
    {
     "name": "stdout",
     "output_type": "stream",
     "text": [
      "<class 'pandas.core.frame.DataFrame'>\n",
      "RangeIndex: 53940 entries, 0 to 53939\n",
      "Data columns (total 10 columns):\n",
      " #   Column   Non-Null Count  Dtype   \n",
      "---  ------   --------------  -----   \n",
      " 0   carat    53940 non-null  float64 \n",
      " 1   cut      53940 non-null  category\n",
      " 2   color    53940 non-null  category\n",
      " 3   clarity  53940 non-null  category\n",
      " 4   depth    53940 non-null  float64 \n",
      " 5   table    53940 non-null  float64 \n",
      " 6   price    53940 non-null  int64   \n",
      " 7   x        53940 non-null  float64 \n",
      " 8   y        53940 non-null  float64 \n",
      " 9   z        53940 non-null  float64 \n",
      "dtypes: category(3), float64(6), int64(1)\n",
      "memory usage: 3.0 MB\n"
     ]
    }
   ],
   "source": [
    "pa.Table.from_pandas(dfict['diamonds']).to_pandas().info()"
   ]
  },
  {
   "cell_type": "code",
   "execution_count": 9,
   "id": "e9eaf048-e7de-4be2-9361-6262f14b6c93",
   "metadata": {},
   "outputs": [
    {
     "name": "stdout",
     "output_type": "stream",
     "text": [
      "<class 'pandas.core.frame.DataFrame'>\n",
      "RangeIndex: 53940 entries, 0 to 53939\n",
      "Data columns (total 10 columns):\n",
      " #   Column   Non-Null Count  Dtype   \n",
      "---  ------   --------------  -----   \n",
      " 0   carat    53940 non-null  Float64 \n",
      " 1   cut      53940 non-null  category\n",
      " 2   color    53940 non-null  category\n",
      " 3   clarity  53940 non-null  category\n",
      " 4   depth    53940 non-null  Float64 \n",
      " 5   table    53940 non-null  Float64 \n",
      " 6   price    53940 non-null  Int64   \n",
      " 7   x        53940 non-null  Float64 \n",
      " 8   y        53940 non-null  Float64 \n",
      " 9   z        53940 non-null  Float64 \n",
      "dtypes: Float64(6), Int64(1), category(3)\n",
      "memory usage: 3.4 MB\n"
     ]
    }
   ],
   "source": [
    "dfict2['diamonds'].info()"
   ]
  },
  {
   "cell_type": "code",
   "execution_count": 21,
   "id": "662da4d3-6e97-4d80-b564-7dbb610d87b7",
   "metadata": {},
   "outputs": [
    {
     "data": {
      "text/plain": [
       "True"
      ]
     },
     "execution_count": 21,
     "metadata": {},
     "output_type": "execute_result"
    }
   ],
   "source": [
    "dfict.keys() == dfict2.keys()"
   ]
  },
  {
   "cell_type": "code",
   "execution_count": 10,
   "id": "a99beef5-350e-4164-b19a-ba3aa7ac94d3",
   "metadata": {},
   "outputs": [],
   "source": [
    "pd.testing.assert_frame_equal(dfict2['diamonds'], dfict['diamonds'], check_dtype=False)"
   ]
  },
  {
   "cell_type": "code",
   "execution_count": 11,
   "id": "c5f429ef-e16d-4c4a-9de5-3464cfd55756",
   "metadata": {},
   "outputs": [],
   "source": [
    "a = dfict2['diamonds']['carat'].dtype"
   ]
  },
  {
   "cell_type": "code",
   "execution_count": 12,
   "id": "e203c3a0-bf9f-46bf-9241-a23773236283",
   "metadata": {},
   "outputs": [
    {
     "data": {
      "text/plain": [
       "Float64Dtype()"
      ]
     },
     "execution_count": 12,
     "metadata": {},
     "output_type": "execute_result"
    }
   ],
   "source": [
    "a"
   ]
  },
  {
   "cell_type": "code",
   "execution_count": 13,
   "id": "f1ec0f80-ee3a-4abf-b6f0-b757dad54e44",
   "metadata": {},
   "outputs": [],
   "source": [
    "b = dfict['diamonds']['carat'].dtype"
   ]
  },
  {
   "cell_type": "code",
   "execution_count": 14,
   "id": "1adc0c86-7270-45df-ac0a-461b5906702e",
   "metadata": {},
   "outputs": [
    {
     "data": {
      "text/plain": [
       "dtype('float64')"
      ]
     },
     "execution_count": 14,
     "metadata": {},
     "output_type": "execute_result"
    }
   ],
   "source": [
    "b"
   ]
  },
  {
   "cell_type": "code",
   "execution_count": 15,
   "id": "5795d3a4-d97c-4283-993d-f54acf0afac7",
   "metadata": {},
   "outputs": [],
   "source": [
    "f = tempfile.NamedTemporaryFile()"
   ]
  },
  {
   "cell_type": "code",
   "execution_count": 16,
   "id": "28584813-94bd-48b3-b58b-6d39549f3bb7",
   "metadata": {},
   "outputs": [
    {
     "data": {
      "text/plain": [
       "'/var/folders/28/s847xzn910qf6n5lpdmw9z7c0000gn/T/tmpg2ufn1n8'"
      ]
     },
     "execution_count": 16,
     "metadata": {},
     "output_type": "execute_result"
    }
   ],
   "source": [
    "f.name"
   ]
  },
  {
   "cell_type": "code",
   "execution_count": 17,
   "id": "03becee2-b2cf-4a48-988e-521dd99ecaac",
   "metadata": {},
   "outputs": [],
   "source": [
    "keepdb.dfs_to_zip(f.name, dfict)"
   ]
  },
  {
   "cell_type": "code",
   "execution_count": 18,
   "id": "d81c439a-0c99-4d85-b182-bb49bc845051",
   "metadata": {},
   "outputs": [],
   "source": [
    "dfict2 = keepdb.zip_to_dfs(f.name)"
   ]
  },
  {
   "cell_type": "code",
   "execution_count": 19,
   "id": "2a152266-2c43-4100-822a-4c65e6f27baa",
   "metadata": {},
   "outputs": [],
   "source": [
    "pd.testing.assert_frame_equal(dfict2['diamonds'], dfict['diamonds'], check_dtype=False)"
   ]
  },
  {
   "cell_type": "code",
   "execution_count": null,
   "id": "abea86a4-72c4-4030-83e5-916bb619cf60",
   "metadata": {},
   "outputs": [],
   "source": []
  }
 ],
 "metadata": {
  "kernelspec": {
   "display_name": "Python 3 (ipykernel)",
   "language": "python",
   "name": "python3"
  },
  "language_info": {
   "codemirror_mode": {
    "name": "ipython",
    "version": 3
   },
   "file_extension": ".py",
   "mimetype": "text/x-python",
   "name": "python",
   "nbconvert_exporter": "python",
   "pygments_lexer": "ipython3",
   "version": "3.11.1"
  }
 },
 "nbformat": 4,
 "nbformat_minor": 5
}
