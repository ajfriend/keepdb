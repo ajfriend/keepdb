{
 "cells": [
  {
   "cell_type": "code",
   "execution_count": 6,
   "id": "abea86a4-72c4-4030-83e5-916bb619cf60",
   "metadata": {},
   "outputs": [],
   "source": [
    "import seaborn as sns\n",
    "\n",
    "keys = [\n",
    "    'diamonds',\n",
    "    'car_crashes',\n",
    "]\n",
    "\n",
    "dfs = {\n",
    "    k: sns.load_dataset(k)\n",
    "    for k in keys\n",
    "}"
   ]
  },
  {
   "cell_type": "code",
   "execution_count": 16,
   "id": "5f32eaa7-935b-4fd0-bd51-1f95f73c9333",
   "metadata": {},
   "outputs": [
    {
     "name": "stdout",
     "output_type": "stream",
     "text": [
      "Dataframe: diamonds\n",
      "<class 'pandas.core.frame.DataFrame'>\n",
      "RangeIndex: 53940 entries, 0 to 53939\n",
      "Data columns (total 10 columns):\n",
      " #   Column   Non-Null Count  Dtype   \n",
      "---  ------   --------------  -----   \n",
      " 0   carat    53940 non-null  float64 \n",
      " 1   cut      53940 non-null  category\n",
      " 2   color    53940 non-null  category\n",
      " 3   clarity  53940 non-null  category\n",
      " 4   depth    53940 non-null  float64 \n",
      " 5   table    53940 non-null  float64 \n",
      " 6   price    53940 non-null  int64   \n",
      " 7   x        53940 non-null  float64 \n",
      " 8   y        53940 non-null  float64 \n",
      " 9   z        53940 non-null  float64 \n",
      "dtypes: category(3), float64(6), int64(1)\n",
      "memory usage: 3.0 MB\n",
      "\n",
      "Dataframe: car_crashes\n",
      "<class 'pandas.core.frame.DataFrame'>\n",
      "RangeIndex: 51 entries, 0 to 50\n",
      "Data columns (total 8 columns):\n",
      " #   Column          Non-Null Count  Dtype  \n",
      "---  ------          --------------  -----  \n",
      " 0   total           51 non-null     float64\n",
      " 1   speeding        51 non-null     float64\n",
      " 2   alcohol         51 non-null     float64\n",
      " 3   not_distracted  51 non-null     float64\n",
      " 4   no_previous     51 non-null     float64\n",
      " 5   ins_premium     51 non-null     float64\n",
      " 6   ins_losses      51 non-null     float64\n",
      " 7   abbrev          51 non-null     object \n",
      "dtypes: float64(7), object(1)\n",
      "memory usage: 3.3+ KB\n",
      "\n"
     ]
    }
   ],
   "source": [
    "def print_info(dfs):\n",
    "    for k, df in dfs.items():\n",
    "        print(f'Dataframe: {k}')\n",
    "        df.info()\n",
    "        print()\n",
    "\n",
    "print_info(dfs)"
   ]
  },
  {
   "cell_type": "code",
   "execution_count": 21,
   "id": "bd7ad6ec-6390-47c3-acf7-57b60dfe6efa",
   "metadata": {},
   "outputs": [
    {
     "name": "stdout",
     "output_type": "stream",
     "text": [
      "Dataframe: diamonds\n",
      "<class 'pandas.core.frame.DataFrame'>\n",
      "RangeIndex: 53940 entries, 0 to 53939\n",
      "Data columns (total 10 columns):\n",
      " #   Column   Non-Null Count  Dtype   \n",
      "---  ------   --------------  -----   \n",
      " 0   carat    53940 non-null  float64 \n",
      " 1   cut      53940 non-null  category\n",
      " 2   color    53940 non-null  category\n",
      " 3   clarity  53940 non-null  category\n",
      " 4   depth    53940 non-null  float64 \n",
      " 5   table    53940 non-null  float64 \n",
      " 6   price    53940 non-null  int64   \n",
      " 7   x        53940 non-null  float64 \n",
      " 8   y        53940 non-null  float64 \n",
      " 9   z        53940 non-null  float64 \n",
      "dtypes: category(3), float64(6), int64(1)\n",
      "memory usage: 3.0 MB\n",
      "\n",
      "Dataframe: car_crashes\n",
      "<class 'pandas.core.frame.DataFrame'>\n",
      "RangeIndex: 51 entries, 0 to 50\n",
      "Data columns (total 8 columns):\n",
      " #   Column          Non-Null Count  Dtype  \n",
      "---  ------          --------------  -----  \n",
      " 0   total           51 non-null     float64\n",
      " 1   speeding        51 non-null     float64\n",
      " 2   alcohol         51 non-null     float64\n",
      " 3   not_distracted  51 non-null     float64\n",
      " 4   no_previous     51 non-null     float64\n",
      " 5   ins_premium     51 non-null     float64\n",
      " 6   ins_losses      51 non-null     float64\n",
      " 7   abbrev          51 non-null     object \n",
      "dtypes: float64(7), object(1)\n",
      "memory usage: 3.3+ KB\n",
      "\n"
     ]
    }
   ],
   "source": [
    "import keepdb as kd\n",
    "\n",
    "filename = 'test_file.zip'\n",
    "kd.to_zip(filename, dfs)\n",
    "dfs2 = kd.from_zip(filename)\n",
    "\n",
    "print_info(dfs2)"
   ]
  },
  {
   "cell_type": "markdown",
   "id": "e624dfbb-c83a-4f25-a614-51f19a04f3d6",
   "metadata": {},
   "source": [
    "# if you'd like to avoid pandas dtype conversion issues you can do the same with just pyarrow tables"
   ]
  },
  {
   "cell_type": "code",
   "execution_count": null,
   "id": "9ec42417-afbd-4098-a079-d4ae2a93fafb",
   "metadata": {},
   "outputs": [],
   "source": [
    "tables = {}\n",
    "\n",
    "kd.pa.to_zip(filename, tables)\n",
    "tables2 = kd.pa.from_zip(filename)\n",
    "\n",
    "# note that you can read the old zipfile as well"
   ]
  }
 ],
 "metadata": {
  "kernelspec": {
   "display_name": "Python 3 (ipykernel)",
   "language": "python",
   "name": "python3"
  },
  "language_info": {
   "codemirror_mode": {
    "name": "ipython",
    "version": 3
   },
   "file_extension": ".py",
   "mimetype": "text/x-python",
   "name": "python",
   "nbconvert_exporter": "python",
   "pygments_lexer": "ipython3",
   "version": "3.11.1"
  }
 },
 "nbformat": 4,
 "nbformat_minor": 5
}
