{
 "cells": [
  {
   "cell_type": "code",
   "execution_count": 1,
   "id": "06c1cab0-62b7-458d-91f4-009f9fb7d1f7",
   "metadata": {},
   "outputs": [],
   "source": [
    "import keepdb\n",
    "\n",
    "import pandas as pd\n",
    "import pyarrow as pa\n",
    "import seaborn as sns\n",
    "\n",
    "import tempfile"
   ]
  },
  {
   "cell_type": "code",
   "execution_count": 2,
   "id": "83af9431-cc72-4540-8074-a8aa18234965",
   "metadata": {},
   "outputs": [
    {
     "data": {
      "text/plain": [
       "'0.0.42'"
      ]
     },
     "execution_count": 2,
     "metadata": {},
     "output_type": "execute_result"
    }
   ],
   "source": [
    "keepdb.__version__"
   ]
  },
  {
   "cell_type": "code",
   "execution_count": 3,
   "id": "a97178d4-ab85-4b14-94d3-485d306260b4",
   "metadata": {},
   "outputs": [],
   "source": [
    "f = tempfile.TemporaryFile()"
   ]
  },
  {
   "cell_type": "code",
   "execution_count": 4,
   "id": "94a11efd-43e9-46af-9ddd-1f248337594a",
   "metadata": {},
   "outputs": [],
   "source": [
    "keys = [\n",
    "    'diamonds',\n",
    "    'car_crashes',\n",
    "]\n",
    "\n",
    "dfict = {\n",
    "    k: sns.load_dataset(k)\n",
    "    for k in keys\n",
    "}\n"
   ]
  },
  {
   "cell_type": "code",
   "execution_count": 5,
   "id": "29631b8a-67b7-4dd4-a2e9-ca61d2c6237f",
   "metadata": {},
   "outputs": [],
   "source": [
    "keepdb.dfs_to_zip(f, dfict)"
   ]
  },
  {
   "cell_type": "code",
   "execution_count": 6,
   "id": "590126c7-c44a-42cd-b555-d02ed2cda207",
   "metadata": {},
   "outputs": [],
   "source": [
    "dfict2 = keepdb.zip_to_dfs(f)"
   ]
  },
  {
   "cell_type": "code",
   "execution_count": null,
   "id": "3ed4a3d5-81d6-4956-9d1d-70687c9440b7",
   "metadata": {},
   "outputs": [],
   "source": []
  },
  {
   "cell_type": "code",
   "execution_count": 7,
   "id": "d1e0c359-efb8-4772-bbbe-4198c06ee32d",
   "metadata": {},
   "outputs": [
    {
     "name": "stdout",
     "output_type": "stream",
     "text": [
      "<class 'pandas.core.frame.DataFrame'>\n",
      "RangeIndex: 53940 entries, 0 to 53939\n",
      "Data columns (total 10 columns):\n",
      " #   Column   Non-Null Count  Dtype   \n",
      "---  ------   --------------  -----   \n",
      " 0   carat    53940 non-null  float64 \n",
      " 1   cut      53940 non-null  category\n",
      " 2   color    53940 non-null  category\n",
      " 3   clarity  53940 non-null  category\n",
      " 4   depth    53940 non-null  float64 \n",
      " 5   table    53940 non-null  float64 \n",
      " 6   price    53940 non-null  int64   \n",
      " 7   x        53940 non-null  float64 \n",
      " 8   y        53940 non-null  float64 \n",
      " 9   z        53940 non-null  float64 \n",
      "dtypes: category(3), float64(6), int64(1)\n",
      "memory usage: 3.0 MB\n"
     ]
    }
   ],
   "source": [
    "dfict['diamonds'].info()"
   ]
  },
  {
   "cell_type": "code",
   "execution_count": 8,
   "id": "d3139c95-e144-4939-a4be-bdb7ba60c346",
   "metadata": {},
   "outputs": [
    {
     "name": "stdout",
     "output_type": "stream",
     "text": [
      "<class 'pandas.core.frame.DataFrame'>\n",
      "RangeIndex: 53940 entries, 0 to 53939\n",
      "Data columns (total 10 columns):\n",
      " #   Column   Non-Null Count  Dtype   \n",
      "---  ------   --------------  -----   \n",
      " 0   carat    53940 non-null  float64 \n",
      " 1   cut      53940 non-null  category\n",
      " 2   color    53940 non-null  category\n",
      " 3   clarity  53940 non-null  category\n",
      " 4   depth    53940 non-null  float64 \n",
      " 5   table    53940 non-null  float64 \n",
      " 6   price    53940 non-null  int64   \n",
      " 7   x        53940 non-null  float64 \n",
      " 8   y        53940 non-null  float64 \n",
      " 9   z        53940 non-null  float64 \n",
      "dtypes: category(3), float64(6), int64(1)\n",
      "memory usage: 3.0 MB\n"
     ]
    }
   ],
   "source": [
    "pa.Table.from_pandas(dfict['diamonds']).to_pandas().info()"
   ]
  },
  {
   "cell_type": "code",
   "execution_count": 9,
   "id": "e9eaf048-e7de-4be2-9361-6262f14b6c93",
   "metadata": {},
   "outputs": [
    {
     "name": "stdout",
     "output_type": "stream",
     "text": [
      "<class 'pandas.core.frame.DataFrame'>\n",
      "RangeIndex: 53940 entries, 0 to 53939\n",
      "Data columns (total 10 columns):\n",
      " #   Column   Non-Null Count  Dtype   \n",
      "---  ------   --------------  -----   \n",
      " 0   carat    53940 non-null  Float64 \n",
      " 1   cut      53940 non-null  category\n",
      " 2   color    53940 non-null  category\n",
      " 3   clarity  53940 non-null  category\n",
      " 4   depth    53940 non-null  Float64 \n",
      " 5   table    53940 non-null  Float64 \n",
      " 6   price    53940 non-null  Int64   \n",
      " 7   x        53940 non-null  Float64 \n",
      " 8   y        53940 non-null  Float64 \n",
      " 9   z        53940 non-null  Float64 \n",
      "dtypes: Float64(6), Int64(1), category(3)\n",
      "memory usage: 3.4 MB\n"
     ]
    }
   ],
   "source": [
    "dfict2['diamonds'].info()"
   ]
  },
  {
   "cell_type": "code",
   "execution_count": 21,
   "id": "662da4d3-6e97-4d80-b564-7dbb610d87b7",
   "metadata": {},
   "outputs": [
    {
     "data": {
      "text/plain": [
       "True"
      ]
     },
     "execution_count": 21,
     "metadata": {},
     "output_type": "execute_result"
    }
   ],
   "source": [
    "dfict.keys() == dfict2.keys()"
   ]
  },
  {
   "cell_type": "code",
   "execution_count": 10,
   "id": "a99beef5-350e-4164-b19a-ba3aa7ac94d3",
   "metadata": {},
   "outputs": [],
   "source": [
    "pd.testing.assert_frame_equal(dfict2['diamonds'], dfict['diamonds'], check_dtype=False)"
   ]
  },
  {
   "cell_type": "code",
   "execution_count": 11,
   "id": "c5f429ef-e16d-4c4a-9de5-3464cfd55756",
   "metadata": {},
   "outputs": [],
   "source": [
    "a = dfict2['diamonds']['carat'].dtype"
   ]
  },
  {
   "cell_type": "code",
   "execution_count": 12,
   "id": "e203c3a0-bf9f-46bf-9241-a23773236283",
   "metadata": {},
   "outputs": [
    {
     "data": {
      "text/plain": [
       "Float64Dtype()"
      ]
     },
     "execution_count": 12,
     "metadata": {},
     "output_type": "execute_result"
    }
   ],
   "source": [
    "a"
   ]
  },
  {
   "cell_type": "code",
   "execution_count": 13,
   "id": "f1ec0f80-ee3a-4abf-b6f0-b757dad54e44",
   "metadata": {},
   "outputs": [],
   "source": [
    "b = dfict['diamonds']['carat'].dtype"
   ]
  },
  {
   "cell_type": "code",
   "execution_count": 14,
   "id": "1adc0c86-7270-45df-ac0a-461b5906702e",
   "metadata": {},
   "outputs": [
    {
     "data": {
      "text/plain": [
       "dtype('float64')"
      ]
     },
     "execution_count": 14,
     "metadata": {},
     "output_type": "execute_result"
    }
   ],
   "source": [
    "b"
   ]
  },
  {
   "cell_type": "code",
   "execution_count": 15,
   "id": "5795d3a4-d97c-4283-993d-f54acf0afac7",
   "metadata": {},
   "outputs": [],
   "source": [
    "f = tempfile.NamedTemporaryFile()"
   ]
  },
  {
   "cell_type": "code",
   "execution_count": 16,
   "id": "28584813-94bd-48b3-b58b-6d39549f3bb7",
   "metadata": {},
   "outputs": [
    {
     "data": {
      "text/plain": [
       "'/var/folders/28/s847xzn910qf6n5lpdmw9z7c0000gn/T/tmpg2ufn1n8'"
      ]
     },
     "execution_count": 16,
     "metadata": {},
     "output_type": "execute_result"
    }
   ],
   "source": [
    "f.name"
   ]
  },
  {
   "cell_type": "code",
   "execution_count": 17,
   "id": "03becee2-b2cf-4a48-988e-521dd99ecaac",
   "metadata": {},
   "outputs": [],
   "source": [
    "keepdb.dfs_to_zip(f.name, dfict)"
   ]
  },
  {
   "cell_type": "code",
   "execution_count": 18,
   "id": "d81c439a-0c99-4d85-b182-bb49bc845051",
   "metadata": {},
   "outputs": [],
   "source": [
    "dfict2 = keepdb.zip_to_dfs(f.name)"
   ]
  },
  {
   "cell_type": "code",
   "execution_count": 19,
   "id": "2a152266-2c43-4100-822a-4c65e6f27baa",
   "metadata": {},
   "outputs": [],
   "source": [
    "pd.testing.assert_frame_equal(dfict2['diamonds'], dfict['diamonds'], check_dtype=False)"
   ]
  },
  {
   "cell_type": "code",
   "execution_count": null,
   "id": "abea86a4-72c4-4030-83e5-916bb619cf60",
   "metadata": {},
   "outputs": [],
   "source": []
  }
 ],
 "metadata": {
  "kernelspec": {
   "display_name": "Python 3 (ipykernel)",
   "language": "python",
   "name": "python3"
  },
  "language_info": {
   "codemirror_mode": {
    "name": "ipython",
    "version": 3
   },
   "file_extension": ".py",
   "mimetype": "text/x-python",
   "name": "python",
   "nbconvert_exporter": "python",
   "pygments_lexer": "ipython3",
   "version": "3.11.2"
  }
 },
 "nbformat": 4,
 "nbformat_minor": 5
}
