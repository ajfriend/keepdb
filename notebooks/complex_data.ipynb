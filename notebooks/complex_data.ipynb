{
 "cells": [
  {
   "cell_type": "code",
   "execution_count": 1,
   "id": "6437c58b-b2c1-4f9c-80e1-f9f3892a1670",
   "metadata": {},
   "outputs": [],
   "source": [
    "import pandas as pd\n",
    "import numpy as np\n",
    "import uuid\n",
    "import random\n",
    "\n",
    "def make_node():\n",
    "    return str(uuid.uuid4())\n",
    "\n",
    "def make_int(null_prob=0.1):\n",
    "    n = np.random.randint(1000)\n",
    "\n",
    "    if np.random.rand() <= null_prob:\n",
    "        n = None\n",
    "\n",
    "    return n\n",
    "\n",
    "def make_float(null_prob=0.1):\n",
    "    n = np.random.rand()*100\n",
    "\n",
    "    if np.random.rand() <= null_prob:\n",
    "        n = None\n",
    "\n",
    "    return n\n",
    "\n",
    "def make_list(null_prob=0.1):\n",
    "    n = np.random.randint(4)\n",
    "    out = [make_node() for _ in range(n)]\n",
    "\n",
    "    if np.random.rand() <= null_prob:\n",
    "        out = None\n",
    "\n",
    "    return out\n",
    "\n",
    "def make_dict(null_prob=0.1):\n",
    "    keys = list('ABCD')\n",
    "    random.shuffle(keys)\n",
    "\n",
    "    n = np.random.randint(len(keys))\n",
    "    keys = keys[:n]\n",
    "\n",
    "    d = {\n",
    "        k: np.random.rand()\n",
    "        for k in keys\n",
    "    }\n",
    "\n",
    "    if np.random.rand() <= null_prob:\n",
    "        d = None\n",
    "\n",
    "    return d\n",
    "\n",
    "def make_category(null_prob=0.1):\n",
    "    keys = list('ABCDEFG')\n",
    "    n = np.random.randint(len(keys))\n",
    "    key = keys[n]\n",
    "\n",
    "    if np.random.rand() <= null_prob:\n",
    "        key = None\n",
    "\n",
    "    return key\n",
    "\n",
    "\n",
    "def make_row():\n",
    "    d = {\n",
    "        'node_id': make_node(),\n",
    "        'the_int': make_int(),\n",
    "        'the_float': make_float(),\n",
    "        'the_list': make_list(),\n",
    "        'the_dict': make_dict(),\n",
    "        'the_category': make_category(),\n",
    "    }\n",
    "    return d"
   ]
  },
  {
   "cell_type": "code",
   "execution_count": 2,
   "id": "a12d8565-49f7-4f58-b553-30698e44170a",
   "metadata": {},
   "outputs": [],
   "source": [
    "df = pd.DataFrame.from_records([make_row() for _ in range(1000)])"
   ]
  },
  {
   "cell_type": "code",
   "execution_count": 3,
   "id": "d2a18034-2b68-4280-9dbe-3f111efb8b21",
   "metadata": {},
   "outputs": [],
   "source": [
    "df['the_category'] = df.the_category.astype('category')"
   ]
  },
  {
   "cell_type": "code",
   "execution_count": null,
   "id": "716f2d79-d3ec-46bc-80e4-16f359a08655",
   "metadata": {},
   "outputs": [],
   "source": []
  },
  {
   "cell_type": "code",
   "execution_count": 4,
   "id": "00e14dfa-86fb-4ce9-84dc-eb540b80c97e",
   "metadata": {},
   "outputs": [
    {
     "name": "stdout",
     "output_type": "stream",
     "text": [
      "<class 'pandas.core.frame.DataFrame'>\n",
      "RangeIndex: 1000 entries, 0 to 999\n",
      "Data columns (total 6 columns):\n",
      " #   Column        Non-Null Count  Dtype   \n",
      "---  ------        --------------  -----   \n",
      " 0   node_id       1000 non-null   object  \n",
      " 1   the_int       894 non-null    float64 \n",
      " 2   the_float     901 non-null    float64 \n",
      " 3   the_list      893 non-null    object  \n",
      " 4   the_dict      882 non-null    object  \n",
      " 5   the_category  913 non-null    category\n",
      "dtypes: category(1), float64(2), object(3)\n",
      "memory usage: 40.5+ KB\n"
     ]
    }
   ],
   "source": [
    "df.info()"
   ]
  },
  {
   "cell_type": "code",
   "execution_count": 5,
   "id": "63f2ace2-c296-42a3-a44c-8b675cac0ad2",
   "metadata": {},
   "outputs": [
    {
     "name": "stdout",
     "output_type": "stream",
     "text": [
      "<class 'pandas.core.frame.DataFrame'>\n",
      "RangeIndex: 1000 entries, 0 to 999\n",
      "Data columns (total 6 columns):\n",
      " #   Column        Non-Null Count  Dtype   \n",
      "---  ------        --------------  -----   \n",
      " 0   node_id       1000 non-null   object  \n",
      " 1   the_int       894 non-null    float64 \n",
      " 2   the_float     901 non-null    float64 \n",
      " 3   the_list      893 non-null    object  \n",
      " 4   the_dict      882 non-null    object  \n",
      " 5   the_category  913 non-null    category\n",
      "dtypes: category(1), float64(2), object(3)\n",
      "memory usage: 40.5+ KB\n"
     ]
    }
   ],
   "source": [
    "df.infer_objects().info()"
   ]
  },
  {
   "cell_type": "code",
   "execution_count": 6,
   "id": "2e227a18-a078-4db4-b106-7f817e144c2d",
   "metadata": {},
   "outputs": [
    {
     "name": "stdout",
     "output_type": "stream",
     "text": [
      "<class 'pandas.core.frame.DataFrame'>\n",
      "RangeIndex: 1000 entries, 0 to 999\n",
      "Data columns (total 6 columns):\n",
      " #   Column        Non-Null Count  Dtype          \n",
      "---  ------        --------------  -----          \n",
      " 0   node_id       1000 non-null   string[pyarrow]\n",
      " 1   the_int       894 non-null    int64[pyarrow] \n",
      " 2   the_float     901 non-null    double[pyarrow]\n",
      " 3   the_list      893 non-null    object         \n",
      " 4   the_dict      882 non-null    object         \n",
      " 5   the_category  913 non-null    category       \n",
      "dtypes: category(1), double[pyarrow](1), int64[pyarrow](1), object(2), string[pyarrow](1)\n",
      "memory usage: 72.0+ KB\n"
     ]
    }
   ],
   "source": [
    "df.convert_dtypes(dtype_backend='pyarrow').info()"
   ]
  },
  {
   "cell_type": "code",
   "execution_count": 7,
   "id": "46f41c4d-71f5-4b86-90d5-6b657374d345",
   "metadata": {},
   "outputs": [],
   "source": [
    "import keepdb"
   ]
  },
  {
   "cell_type": "code",
   "execution_count": 8,
   "id": "c7839916-a815-4273-997d-fdf050eea5e8",
   "metadata": {},
   "outputs": [
    {
     "name": "stdout",
     "output_type": "stream",
     "text": [
      "<class 'pandas.core.frame.DataFrame'>\n",
      "RangeIndex: 1000 entries, 0 to 999\n",
      "Data columns (total 6 columns):\n",
      " #   Column        Non-Null Count  Dtype   \n",
      "---  ------        --------------  -----   \n",
      " 0   node_id       1000 non-null   object  \n",
      " 1   the_int       894 non-null    float64 \n",
      " 2   the_float     901 non-null    float64 \n",
      " 3   the_list      893 non-null    object  \n",
      " 4   the_dict      882 non-null    object  \n",
      " 5   the_category  913 non-null    category\n",
      "dtypes: category(1), float64(2), object(3)\n",
      "memory usage: 40.5+ KB\n"
     ]
    }
   ],
   "source": [
    "df.info()"
   ]
  },
  {
   "cell_type": "code",
   "execution_count": 9,
   "id": "8c0036f5-760e-4345-9da9-dad318a74bc8",
   "metadata": {},
   "outputs": [],
   "source": [
    "keepdb.to_zip('bah.zip', {'df': df})"
   ]
  },
  {
   "cell_type": "code",
   "execution_count": 10,
   "id": "2dccb314-a750-44bf-aacb-f905e802e30a",
   "metadata": {},
   "outputs": [],
   "source": [
    "tables = keepdb.pa.from_zip('bah.zip')"
   ]
  },
  {
   "cell_type": "code",
   "execution_count": null,
   "id": "7ab00b3a-b756-4b69-9fa3-e08ba219aee7",
   "metadata": {},
   "outputs": [],
   "source": []
  },
  {
   "cell_type": "code",
   "execution_count": 11,
   "id": "d13330d2-467c-4f14-b3c6-0ea86694b51f",
   "metadata": {},
   "outputs": [
    {
     "data": {
      "text/plain": [
       "node_id: string\n",
       "the_int: double\n",
       "the_float: double\n",
       "the_list: list<element: string>\n",
       "  child 0, element: string\n",
       "the_dict: struct<A: double, B: double, C: double, D: double>\n",
       "  child 0, A: double\n",
       "  child 1, B: double\n",
       "  child 2, C: double\n",
       "  child 3, D: double\n",
       "the_category: dictionary<values=string, indices=int32, ordered=0>\n",
       "-- schema metadata --\n",
       "pandas: '{\"index_columns\": [], \"column_indexes\": [], \"columns\": [{\"name\":' + 821"
      ]
     },
     "execution_count": 11,
     "metadata": {},
     "output_type": "execute_result"
    }
   ],
   "source": [
    "tables['df'].schema"
   ]
  },
  {
   "cell_type": "code",
   "execution_count": 12,
   "id": "bf0e37d9-3dd8-4962-980e-92c4d1e84ead",
   "metadata": {},
   "outputs": [],
   "source": [
    "df2 = tables['df'].to_pandas(types_mapper=pd.ArrowDtype)"
   ]
  },
  {
   "cell_type": "code",
   "execution_count": 13,
   "id": "1ac07cab-d5f7-4955-864f-669442ee7085",
   "metadata": {},
   "outputs": [
    {
     "name": "stdout",
     "output_type": "stream",
     "text": [
      "<class 'pandas.core.frame.DataFrame'>\n",
      "RangeIndex: 1000 entries, 0 to 999\n",
      "Data columns (total 6 columns):\n",
      " #   Column        Non-Null Count  Dtype                                                       \n",
      "---  ------        --------------  -----                                                       \n",
      " 0   node_id       1000 non-null   string[pyarrow]                                             \n",
      " 1   the_int       894 non-null    double[pyarrow]                                             \n",
      " 2   the_float     901 non-null    double[pyarrow]                                             \n",
      " 3   the_list      893 non-null    list<element: string>[pyarrow]                              \n",
      " 4   the_dict      882 non-null    struct<A: double, B: double, C: double, D: double>[pyarrow] \n",
      " 5   the_category  913 non-null    dictionary<values=string, indices=int32, ordered=0>[pyarrow]\n",
      "dtypes: dictionary<values=string, indices=int32, ordered=0>[pyarrow](1), double[pyarrow](2), list<element: string>[pyarrow](1), string[pyarrow](1), struct<A: double, B: double, C: double, D: double>[pyarrow](1)\n",
      "memory usage: 145.6 KB\n"
     ]
    }
   ],
   "source": [
    "df2.info()"
   ]
  },
  {
   "cell_type": "code",
   "execution_count": null,
   "id": "be899df4-2716-4feb-9c0c-351bd4d2b64f",
   "metadata": {},
   "outputs": [],
   "source": [
    "import pyarrow as pa"
   ]
  },
  {
   "cell_type": "code",
   "execution_count": null,
   "id": "a69ded69-1365-4a56-a533-c9b5784fab7a",
   "metadata": {},
   "outputs": [],
   "source": [
    "df"
   ]
  },
  {
   "cell_type": "code",
   "execution_count": null,
   "id": "c6bed92f-f8b7-4428-ad66-73fa8d3738d2",
   "metadata": {},
   "outputs": [],
   "source": [
    "dfa = pa.Table.from_pandas(df).to_pandas(types_mapper=pd.ArrowDtype)\n",
    "dfb = pa.Table.from_pandas(df).to_pandas(None)\n",
    "dfc = pa.Table.from_pandas(df).to_pandas(None).convert_dtypes(dtype_backend='pyarrow')"
   ]
  },
  {
   "cell_type": "code",
   "execution_count": null,
   "id": "099277a0-fe19-49b1-8d75-7df855226cec",
   "metadata": {},
   "outputs": [],
   "source": [
    "dfa.info()"
   ]
  },
  {
   "cell_type": "code",
   "execution_count": null,
   "id": "bba550ee-1c40-48b5-8503-51935f2dc260",
   "metadata": {},
   "outputs": [],
   "source": [
    "dfb.info()"
   ]
  },
  {
   "cell_type": "code",
   "execution_count": null,
   "id": "160f05ef-1eab-470f-a8dc-98473b2bb2ef",
   "metadata": {},
   "outputs": [],
   "source": [
    "dfc.info()"
   ]
  },
  {
   "cell_type": "code",
   "execution_count": null,
   "id": "6aae779f-d457-4a93-ba9b-e22e888813a3",
   "metadata": {},
   "outputs": [],
   "source": [
    "dfa.convert_dtypes(dtype_backend='pyarrow')"
   ]
  },
  {
   "cell_type": "code",
   "execution_count": null,
   "id": "b49877b6-f18f-42d2-b7f3-8ecb63b15a96",
   "metadata": {},
   "outputs": [],
   "source": []
  }
 ],
 "metadata": {
  "kernelspec": {
   "display_name": "Python 3 (ipykernel)",
   "language": "python",
   "name": "python3"
  },
  "language_info": {
   "codemirror_mode": {
    "name": "ipython",
    "version": 3
   },
   "file_extension": ".py",
   "mimetype": "text/x-python",
   "name": "python",
   "nbconvert_exporter": "python",
   "pygments_lexer": "ipython3",
   "version": "3.11.2"
  }
 },
 "nbformat": 4,
 "nbformat_minor": 5
}
