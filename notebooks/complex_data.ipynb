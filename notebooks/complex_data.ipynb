{
 "cells": [
  {
   "cell_type": "code",
   "execution_count": 16,
   "id": "84ecb149-94ac-4b7f-8373-d1d38c3693f8",
   "metadata": {},
   "outputs": [],
   "source": [
    "import pandas as pd\n",
    "import numpy as np\n",
    "import uuid\n",
    "import random"
   ]
  },
  {
   "cell_type": "code",
   "execution_count": 121,
   "id": "6437c58b-b2c1-4f9c-80e1-f9f3892a1670",
   "metadata": {},
   "outputs": [],
   "source": [
    "def make_node():\n",
    "    return str(uuid.uuid4())\n",
    "\n",
    "def make_int(null_prob=0.1):\n",
    "    n = np.random.randint(1000)\n",
    "\n",
    "    if np.random.rand() <= null_prob:\n",
    "        n = None\n",
    "\n",
    "    return n\n",
    "\n",
    "def make_float(null_prob=0.1):\n",
    "    n = np.random.rand()*100\n",
    "\n",
    "    if np.random.rand() <= null_prob:\n",
    "        n = None\n",
    "\n",
    "    return n\n",
    "\n",
    "def make_list(null_prob=0.1):\n",
    "    n = np.random.randint(4)\n",
    "    out = [make_node() for _ in range(n)]\n",
    "\n",
    "    if np.random.rand() <= null_prob:\n",
    "        out = None\n",
    "\n",
    "    return out\n",
    "\n",
    "def make_dict(null_prob=0.1):\n",
    "    keys = list('ABCD')\n",
    "    random.shuffle(keys)\n",
    "\n",
    "    n = np.random.randint(len(keys))\n",
    "    keys = keys[:n]\n",
    "\n",
    "    d = {\n",
    "        k: np.random.rand()\n",
    "        for k in keys\n",
    "    }\n",
    "\n",
    "    if np.random.rand() <= null_prob:\n",
    "        d = None\n",
    "\n",
    "    return d\n",
    "\n",
    "def make_category(null_prob=0.1):\n",
    "    keys = list('ABCDEFG')\n",
    "    n = np.random.randint(len(keys))\n",
    "    key = keys[n]\n",
    "\n",
    "    if np.random.rand() <= null_prob:\n",
    "        key = None\n",
    "\n",
    "    return key"
   ]
  },
  {
   "cell_type": "code",
   "execution_count": 127,
   "id": "1482927b-6458-4fe2-995b-af6501d90877",
   "metadata": {},
   "outputs": [
    {
     "data": {
      "text/plain": [
       "'G'"
      ]
     },
     "execution_count": 127,
     "metadata": {},
     "output_type": "execute_result"
    }
   ],
   "source": [
    "make_category()"
   ]
  },
  {
   "cell_type": "code",
   "execution_count": 76,
   "id": "a63dfc5c-1848-4fb1-9fdd-3f3758717d88",
   "metadata": {},
   "outputs": [
    {
     "data": {
      "text/plain": [
       "2.5798608951148716"
      ]
     },
     "execution_count": 76,
     "metadata": {},
     "output_type": "execute_result"
    }
   ],
   "source": [
    "make_float()"
   ]
  },
  {
   "cell_type": "code",
   "execution_count": 11,
   "id": "b6d5591a-2894-4a10-8d9d-2b691a687cf3",
   "metadata": {},
   "outputs": [
    {
     "data": {
      "text/plain": [
       "['4e680029-b26a-43e1-995d-b9ae09f8feb6',\n",
       " '9f9a8afd-1a0c-4f80-9cf9-b9fddeecc33a']"
      ]
     },
     "execution_count": 11,
     "metadata": {},
     "output_type": "execute_result"
    }
   ],
   "source": [
    "make_list()"
   ]
  },
  {
   "cell_type": "code",
   "execution_count": 128,
   "id": "7e44bf1f-aa37-40b0-8638-fde6ac9a66e7",
   "metadata": {},
   "outputs": [],
   "source": [
    "def foo():\n",
    "    d = {\n",
    "        'node_id': make_node(),\n",
    "        'the_int': make_int(),\n",
    "        'the_float': make_float(),\n",
    "        'the_list': make_list(),\n",
    "        'the_dict': make_dict(),\n",
    "        'the_category': make_category(),\n",
    "    }\n",
    "    return d"
   ]
  },
  {
   "cell_type": "code",
   "execution_count": 129,
   "id": "a12d8565-49f7-4f58-b553-30698e44170a",
   "metadata": {},
   "outputs": [],
   "source": [
    "df = pd.DataFrame.from_records([foo() for _ in range(1000)])"
   ]
  },
  {
   "cell_type": "code",
   "execution_count": 130,
   "id": "00e14dfa-86fb-4ce9-84dc-eb540b80c97e",
   "metadata": {},
   "outputs": [
    {
     "name": "stdout",
     "output_type": "stream",
     "text": [
      "<class 'pandas.core.frame.DataFrame'>\n",
      "RangeIndex: 1000 entries, 0 to 999\n",
      "Data columns (total 6 columns):\n",
      " #   Column        Non-Null Count  Dtype  \n",
      "---  ------        --------------  -----  \n",
      " 0   node_id       1000 non-null   object \n",
      " 1   the_int       916 non-null    float64\n",
      " 2   the_float     903 non-null    float64\n",
      " 3   the_list      906 non-null    object \n",
      " 4   the_dict      908 non-null    object \n",
      " 5   the_category  910 non-null    object \n",
      "dtypes: float64(2), object(4)\n",
      "memory usage: 47.0+ KB\n"
     ]
    }
   ],
   "source": [
    "df.info()"
   ]
  },
  {
   "cell_type": "code",
   "execution_count": 131,
   "id": "63f2ace2-c296-42a3-a44c-8b675cac0ad2",
   "metadata": {},
   "outputs": [
    {
     "name": "stdout",
     "output_type": "stream",
     "text": [
      "<class 'pandas.core.frame.DataFrame'>\n",
      "RangeIndex: 1000 entries, 0 to 999\n",
      "Data columns (total 6 columns):\n",
      " #   Column        Non-Null Count  Dtype  \n",
      "---  ------        --------------  -----  \n",
      " 0   node_id       1000 non-null   object \n",
      " 1   the_int       916 non-null    float64\n",
      " 2   the_float     903 non-null    float64\n",
      " 3   the_list      906 non-null    object \n",
      " 4   the_dict      908 non-null    object \n",
      " 5   the_category  910 non-null    object \n",
      "dtypes: float64(2), object(4)\n",
      "memory usage: 47.0+ KB\n"
     ]
    }
   ],
   "source": [
    "df.infer_objects().info()"
   ]
  },
  {
   "cell_type": "code",
   "execution_count": 133,
   "id": "2e227a18-a078-4db4-b106-7f817e144c2d",
   "metadata": {},
   "outputs": [
    {
     "name": "stdout",
     "output_type": "stream",
     "text": [
      "<class 'pandas.core.frame.DataFrame'>\n",
      "RangeIndex: 1000 entries, 0 to 999\n",
      "Data columns (total 6 columns):\n",
      " #   Column        Non-Null Count  Dtype          \n",
      "---  ------        --------------  -----          \n",
      " 0   node_id       1000 non-null   string[pyarrow]\n",
      " 1   the_int       916 non-null    int64[pyarrow] \n",
      " 2   the_float     903 non-null    double[pyarrow]\n",
      " 3   the_list      906 non-null    object         \n",
      " 4   the_dict      908 non-null    object         \n",
      " 5   the_category  910 non-null    string[pyarrow]\n",
      "dtypes: double[pyarrow](1), int64[pyarrow](1), object(2), string[pyarrow](2)\n",
      "memory usage: 75.6+ KB\n"
     ]
    }
   ],
   "source": [
    "df.convert_dtypes(dtype_backend='pyarrow').info()"
   ]
  },
  {
   "cell_type": "code",
   "execution_count": 134,
   "id": "46f41c4d-71f5-4b86-90d5-6b657374d345",
   "metadata": {},
   "outputs": [],
   "source": [
    "import keepdb"
   ]
  },
  {
   "cell_type": "code",
   "execution_count": 135,
   "id": "c7839916-a815-4273-997d-fdf050eea5e8",
   "metadata": {},
   "outputs": [
    {
     "name": "stdout",
     "output_type": "stream",
     "text": [
      "<class 'pandas.core.frame.DataFrame'>\n",
      "RangeIndex: 1000 entries, 0 to 999\n",
      "Data columns (total 6 columns):\n",
      " #   Column        Non-Null Count  Dtype  \n",
      "---  ------        --------------  -----  \n",
      " 0   node_id       1000 non-null   object \n",
      " 1   the_int       916 non-null    float64\n",
      " 2   the_float     903 non-null    float64\n",
      " 3   the_list      906 non-null    object \n",
      " 4   the_dict      908 non-null    object \n",
      " 5   the_category  910 non-null    object \n",
      "dtypes: float64(2), object(4)\n",
      "memory usage: 47.0+ KB\n"
     ]
    }
   ],
   "source": [
    "df.info()"
   ]
  },
  {
   "cell_type": "code",
   "execution_count": 136,
   "id": "8c0036f5-760e-4345-9da9-dad318a74bc8",
   "metadata": {},
   "outputs": [],
   "source": [
    "keepdb.to_zip('bah.zip', {'df': df})"
   ]
  },
  {
   "cell_type": "code",
   "execution_count": 137,
   "id": "2dccb314-a750-44bf-aacb-f905e802e30a",
   "metadata": {},
   "outputs": [],
   "source": [
    "table = keepdb.pa.from_zip('bah.zip')['df']"
   ]
  },
  {
   "cell_type": "code",
   "execution_count": 140,
   "id": "bf0e37d9-3dd8-4962-980e-92c4d1e84ead",
   "metadata": {},
   "outputs": [],
   "source": [
    "df2 = table.to_pandas(types_mapper=pd.ArrowDtype)"
   ]
  },
  {
   "cell_type": "code",
   "execution_count": 141,
   "id": "1ac07cab-d5f7-4955-864f-669442ee7085",
   "metadata": {},
   "outputs": [
    {
     "data": {
      "text/html": [
       "<div>\n",
       "<style scoped>\n",
       "    .dataframe tbody tr th:only-of-type {\n",
       "        vertical-align: middle;\n",
       "    }\n",
       "\n",
       "    .dataframe tbody tr th {\n",
       "        vertical-align: top;\n",
       "    }\n",
       "\n",
       "    .dataframe thead th {\n",
       "        text-align: right;\n",
       "    }\n",
       "</style>\n",
       "<table border=\"1\" class=\"dataframe\">\n",
       "  <thead>\n",
       "    <tr style=\"text-align: right;\">\n",
       "      <th></th>\n",
       "      <th>node_id</th>\n",
       "      <th>the_int</th>\n",
       "      <th>the_float</th>\n",
       "      <th>the_list</th>\n",
       "      <th>the_dict</th>\n",
       "      <th>the_category</th>\n",
       "    </tr>\n",
       "  </thead>\n",
       "  <tbody>\n",
       "    <tr>\n",
       "      <th>0</th>\n",
       "      <td>50ae7a81-e1ba-4643-ae25-31abadc56447</td>\n",
       "      <td>&lt;NA&gt;</td>\n",
       "      <td>&lt;NA&gt;</td>\n",
       "      <td>&lt;NA&gt;</td>\n",
       "      <td>{'A': None, 'B': None, 'C': None, 'D': 0.14768...</td>\n",
       "      <td>E</td>\n",
       "    </tr>\n",
       "    <tr>\n",
       "      <th>1</th>\n",
       "      <td>b0d8135d-c0ee-4641-b60a-df4dfc9104a1</td>\n",
       "      <td>&lt;NA&gt;</td>\n",
       "      <td>89.105061</td>\n",
       "      <td>[]</td>\n",
       "      <td>{'A': None, 'B': None, 'C': None, 'D': None}</td>\n",
       "      <td>E</td>\n",
       "    </tr>\n",
       "    <tr>\n",
       "      <th>2</th>\n",
       "      <td>c5538f87-d314-4621-9f0a-c646cd3ff60f</td>\n",
       "      <td>826.0</td>\n",
       "      <td>66.310249</td>\n",
       "      <td>['f45914e7-21dd-4e2c-97b5-b989ff674dfc'\n",
       " '2076...</td>\n",
       "      <td>{'A': None, 'B': 0.9224137956379694, 'C': 0.75...</td>\n",
       "      <td>B</td>\n",
       "    </tr>\n",
       "    <tr>\n",
       "      <th>3</th>\n",
       "      <td>c08b2edd-a2f0-41ed-8549-a097f9d33540</td>\n",
       "      <td>434.0</td>\n",
       "      <td>96.997069</td>\n",
       "      <td>['9f1ed1de-af0f-419b-ae17-aeececd64c36'\n",
       " '61d4...</td>\n",
       "      <td>{'A': None, 'B': None, 'C': 0.8115470088543084...</td>\n",
       "      <td>B</td>\n",
       "    </tr>\n",
       "    <tr>\n",
       "      <th>4</th>\n",
       "      <td>a484877e-5664-464d-990f-39427e2588c1</td>\n",
       "      <td>469.0</td>\n",
       "      <td>65.824791</td>\n",
       "      <td>[]</td>\n",
       "      <td>{'A': None, 'B': 0.7253693861027685, 'C': None...</td>\n",
       "      <td>B</td>\n",
       "    </tr>\n",
       "    <tr>\n",
       "      <th>...</th>\n",
       "      <td>...</td>\n",
       "      <td>...</td>\n",
       "      <td>...</td>\n",
       "      <td>...</td>\n",
       "      <td>...</td>\n",
       "      <td>...</td>\n",
       "    </tr>\n",
       "    <tr>\n",
       "      <th>995</th>\n",
       "      <td>99fbe42f-8a31-483d-9b3c-b30d4e74c3f2</td>\n",
       "      <td>559.0</td>\n",
       "      <td>37.37472</td>\n",
       "      <td>['3b24265c-f133-4053-b5ba-cb6e199b9799']</td>\n",
       "      <td>{'A': None, 'B': None, 'C': None, 'D': 0.49455...</td>\n",
       "      <td>E</td>\n",
       "    </tr>\n",
       "    <tr>\n",
       "      <th>996</th>\n",
       "      <td>7e641aac-7746-43e2-bc34-6e3fb59d4d6e</td>\n",
       "      <td>40.0</td>\n",
       "      <td>62.048404</td>\n",
       "      <td>['6323c800-9338-423c-a802-63d33d885419'\n",
       " 'ddb2...</td>\n",
       "      <td>{'A': 0.07457206110325909, 'B': None, 'C': 0.8...</td>\n",
       "      <td>C</td>\n",
       "    </tr>\n",
       "    <tr>\n",
       "      <th>997</th>\n",
       "      <td>368dd5fd-2f1e-4395-a472-3dcbc064676e</td>\n",
       "      <td>55.0</td>\n",
       "      <td>84.911726</td>\n",
       "      <td>['541df8aa-1d54-4842-8cdf-2c42b13aacb7'\n",
       " 'a2a4...</td>\n",
       "      <td>{'A': 0.40003854183876986, 'B': None, 'C': Non...</td>\n",
       "      <td>B</td>\n",
       "    </tr>\n",
       "    <tr>\n",
       "      <th>998</th>\n",
       "      <td>2c6ea000-5975-4602-bfae-87c59a5b69c1</td>\n",
       "      <td>469.0</td>\n",
       "      <td>24.835409</td>\n",
       "      <td>['0ee90dc8-1c88-4cf8-9268-bcdcd6a7e5e7'\n",
       " '69ec...</td>\n",
       "      <td>{'A': 0.33276347684993224, 'B': None, 'C': 0.9...</td>\n",
       "      <td>E</td>\n",
       "    </tr>\n",
       "    <tr>\n",
       "      <th>999</th>\n",
       "      <td>8cf98338-31a3-4261-83c2-b9713450e651</td>\n",
       "      <td>101.0</td>\n",
       "      <td>59.658719</td>\n",
       "      <td>['86a90ad9-dd8c-4d1b-8ab4-13cb5227df6a'\n",
       " 'ded3...</td>\n",
       "      <td>{'A': None, 'B': None, 'C': None, 'D': None}</td>\n",
       "      <td>C</td>\n",
       "    </tr>\n",
       "  </tbody>\n",
       "</table>\n",
       "<p>1000 rows × 6 columns</p>\n",
       "</div>"
      ],
      "text/plain": [
       "                                  node_id  the_int  the_float  \\\n",
       "0    50ae7a81-e1ba-4643-ae25-31abadc56447     <NA>       <NA>   \n",
       "1    b0d8135d-c0ee-4641-b60a-df4dfc9104a1     <NA>  89.105061   \n",
       "2    c5538f87-d314-4621-9f0a-c646cd3ff60f    826.0  66.310249   \n",
       "3    c08b2edd-a2f0-41ed-8549-a097f9d33540    434.0  96.997069   \n",
       "4    a484877e-5664-464d-990f-39427e2588c1    469.0  65.824791   \n",
       "..                                    ...      ...        ...   \n",
       "995  99fbe42f-8a31-483d-9b3c-b30d4e74c3f2    559.0   37.37472   \n",
       "996  7e641aac-7746-43e2-bc34-6e3fb59d4d6e     40.0  62.048404   \n",
       "997  368dd5fd-2f1e-4395-a472-3dcbc064676e     55.0  84.911726   \n",
       "998  2c6ea000-5975-4602-bfae-87c59a5b69c1    469.0  24.835409   \n",
       "999  8cf98338-31a3-4261-83c2-b9713450e651    101.0  59.658719   \n",
       "\n",
       "                                              the_list  \\\n",
       "0                                                 <NA>   \n",
       "1                                                   []   \n",
       "2    ['f45914e7-21dd-4e2c-97b5-b989ff674dfc'\n",
       " '2076...   \n",
       "3    ['9f1ed1de-af0f-419b-ae17-aeececd64c36'\n",
       " '61d4...   \n",
       "4                                                   []   \n",
       "..                                                 ...   \n",
       "995           ['3b24265c-f133-4053-b5ba-cb6e199b9799']   \n",
       "996  ['6323c800-9338-423c-a802-63d33d885419'\n",
       " 'ddb2...   \n",
       "997  ['541df8aa-1d54-4842-8cdf-2c42b13aacb7'\n",
       " 'a2a4...   \n",
       "998  ['0ee90dc8-1c88-4cf8-9268-bcdcd6a7e5e7'\n",
       " '69ec...   \n",
       "999  ['86a90ad9-dd8c-4d1b-8ab4-13cb5227df6a'\n",
       " 'ded3...   \n",
       "\n",
       "                                              the_dict the_category  \n",
       "0    {'A': None, 'B': None, 'C': None, 'D': 0.14768...            E  \n",
       "1         {'A': None, 'B': None, 'C': None, 'D': None}            E  \n",
       "2    {'A': None, 'B': 0.9224137956379694, 'C': 0.75...            B  \n",
       "3    {'A': None, 'B': None, 'C': 0.8115470088543084...            B  \n",
       "4    {'A': None, 'B': 0.7253693861027685, 'C': None...            B  \n",
       "..                                                 ...          ...  \n",
       "995  {'A': None, 'B': None, 'C': None, 'D': 0.49455...            E  \n",
       "996  {'A': 0.07457206110325909, 'B': None, 'C': 0.8...            C  \n",
       "997  {'A': 0.40003854183876986, 'B': None, 'C': Non...            B  \n",
       "998  {'A': 0.33276347684993224, 'B': None, 'C': 0.9...            E  \n",
       "999       {'A': None, 'B': None, 'C': None, 'D': None}            C  \n",
       "\n",
       "[1000 rows x 6 columns]"
      ]
     },
     "execution_count": 141,
     "metadata": {},
     "output_type": "execute_result"
    }
   ],
   "source": [
    "df2"
   ]
  },
  {
   "cell_type": "code",
   "execution_count": null,
   "id": "c6bed92f-f8b7-4428-ad66-73fa8d3738d2",
   "metadata": {},
   "outputs": [],
   "source": []
  }
 ],
 "metadata": {
  "kernelspec": {
   "display_name": "Python 3 (ipykernel)",
   "language": "python",
   "name": "python3"
  },
  "language_info": {
   "codemirror_mode": {
    "name": "ipython",
    "version": 3
   },
   "file_extension": ".py",
   "mimetype": "text/x-python",
   "name": "python",
   "nbconvert_exporter": "python",
   "pygments_lexer": "ipython3",
   "version": "3.11.1"
  }
 },
 "nbformat": 4,
 "nbformat_minor": 5
}
