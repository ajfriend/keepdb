{
 "cells": [
  {
   "cell_type": "code",
   "execution_count": 1,
   "id": "6437c58b-b2c1-4f9c-80e1-f9f3892a1670",
   "metadata": {},
   "outputs": [],
   "source": [
    "import pandas as pd\n",
    "import numpy as np\n",
    "import pyarrow as pa\n",
    "\n",
    "def get_types(df):\n",
    "    return tuple(map(str, df.dtypes))"
   ]
  },
  {
   "cell_type": "code",
   "execution_count": 2,
   "id": "d029356a-5694-4734-a44b-a27308b01ab7",
   "metadata": {},
   "outputs": [],
   "source": [
    "df = pd.DataFrame({\n",
    "    'colA': [1, 2, 3, None],\n",
    "    'colB': ['A', 'B', 'C', None],\n",
    "})"
   ]
  },
  {
   "cell_type": "code",
   "execution_count": 3,
   "id": "7a78dd15-fd3b-49a7-87a7-b03e18197109",
   "metadata": {},
   "outputs": [
    {
     "data": {
      "text/html": [
       "<div>\n",
       "<style scoped>\n",
       "    .dataframe tbody tr th:only-of-type {\n",
       "        vertical-align: middle;\n",
       "    }\n",
       "\n",
       "    .dataframe tbody tr th {\n",
       "        vertical-align: top;\n",
       "    }\n",
       "\n",
       "    .dataframe thead th {\n",
       "        text-align: right;\n",
       "    }\n",
       "</style>\n",
       "<table border=\"1\" class=\"dataframe\">\n",
       "  <thead>\n",
       "    <tr style=\"text-align: right;\">\n",
       "      <th></th>\n",
       "      <th>0</th>\n",
       "      <th>1</th>\n",
       "    </tr>\n",
       "  </thead>\n",
       "  <tbody>\n",
       "    <tr>\n",
       "      <th>0</th>\n",
       "      <td>float64</td>\n",
       "      <td>object</td>\n",
       "    </tr>\n",
       "    <tr>\n",
       "      <th>1</th>\n",
       "      <td>Int64</td>\n",
       "      <td>string</td>\n",
       "    </tr>\n",
       "    <tr>\n",
       "      <th>2</th>\n",
       "      <td>int64[pyarrow]</td>\n",
       "      <td>string[pyarrow]</td>\n",
       "    </tr>\n",
       "    <tr>\n",
       "      <th>3</th>\n",
       "      <td>float64</td>\n",
       "      <td>object</td>\n",
       "    </tr>\n",
       "    <tr>\n",
       "      <th>4</th>\n",
       "      <td>Int64</td>\n",
       "      <td>string</td>\n",
       "    </tr>\n",
       "    <tr>\n",
       "      <th>5</th>\n",
       "      <td>int64[pyarrow]</td>\n",
       "      <td>string[pyarrow]</td>\n",
       "    </tr>\n",
       "    <tr>\n",
       "      <th>6</th>\n",
       "      <td>double[pyarrow]</td>\n",
       "      <td>string[pyarrow]</td>\n",
       "    </tr>\n",
       "    <tr>\n",
       "      <th>7</th>\n",
       "      <td>Float64</td>\n",
       "      <td>string</td>\n",
       "    </tr>\n",
       "    <tr>\n",
       "      <th>8</th>\n",
       "      <td>double[pyarrow]</td>\n",
       "      <td>string[pyarrow]</td>\n",
       "    </tr>\n",
       "  </tbody>\n",
       "</table>\n",
       "</div>"
      ],
      "text/plain": [
       "                 0                1\n",
       "0          float64           object\n",
       "1            Int64           string\n",
       "2   int64[pyarrow]  string[pyarrow]\n",
       "3          float64           object\n",
       "4            Int64           string\n",
       "5   int64[pyarrow]  string[pyarrow]\n",
       "6  double[pyarrow]  string[pyarrow]\n",
       "7          Float64           string\n",
       "8  double[pyarrow]  string[pyarrow]"
      ]
     },
     "execution_count": 3,
     "metadata": {},
     "output_type": "execute_result"
    }
   ],
   "source": [
    "out = [\n",
    "    df,\n",
    "    df.convert_dtypes(),\n",
    "    df.convert_dtypes(dtype_backend='pyarrow'),\n",
    "    pa.Table.from_pandas(df).to_pandas(),\n",
    "    pa.Table.from_pandas(df).to_pandas().convert_dtypes(),\n",
    "    pa.Table.from_pandas(df).to_pandas().convert_dtypes(dtype_backend='pyarrow'),\n",
    "    pa.Table.from_pandas(df).to_pandas(types_mapper=pd.ArrowDtype),\n",
    "    pa.Table.from_pandas(df).to_pandas(types_mapper=pd.ArrowDtype).convert_dtypes(),\n",
    "    pa.Table.from_pandas(df).to_pandas(types_mapper=pd.ArrowDtype).convert_dtypes(dtype_backend='pyarrow'),\n",
    "]\n",
    "pd.DataFrame([get_types(o) for o in out])"
   ]
  },
  {
   "cell_type": "code",
   "execution_count": 4,
   "id": "d7e360cf-7c93-496b-b02b-75a6778a0b9f",
   "metadata": {},
   "outputs": [
    {
     "data": {
      "text/html": [
       "<div>\n",
       "<style scoped>\n",
       "    .dataframe tbody tr th:only-of-type {\n",
       "        vertical-align: middle;\n",
       "    }\n",
       "\n",
       "    .dataframe tbody tr th {\n",
       "        vertical-align: top;\n",
       "    }\n",
       "\n",
       "    .dataframe thead th {\n",
       "        text-align: right;\n",
       "    }\n",
       "</style>\n",
       "<table border=\"1\" class=\"dataframe\">\n",
       "  <thead>\n",
       "    <tr style=\"text-align: right;\">\n",
       "      <th></th>\n",
       "      <th>0</th>\n",
       "      <th>1</th>\n",
       "    </tr>\n",
       "  </thead>\n",
       "  <tbody>\n",
       "    <tr>\n",
       "      <th>0</th>\n",
       "      <td>float64</td>\n",
       "      <td>category</td>\n",
       "    </tr>\n",
       "    <tr>\n",
       "      <th>1</th>\n",
       "      <td>Int64</td>\n",
       "      <td>category</td>\n",
       "    </tr>\n",
       "    <tr>\n",
       "      <th>2</th>\n",
       "      <td>int64[pyarrow]</td>\n",
       "      <td>category</td>\n",
       "    </tr>\n",
       "    <tr>\n",
       "      <th>3</th>\n",
       "      <td>float64</td>\n",
       "      <td>category</td>\n",
       "    </tr>\n",
       "    <tr>\n",
       "      <th>4</th>\n",
       "      <td>Int64</td>\n",
       "      <td>category</td>\n",
       "    </tr>\n",
       "    <tr>\n",
       "      <th>5</th>\n",
       "      <td>int64[pyarrow]</td>\n",
       "      <td>category</td>\n",
       "    </tr>\n",
       "    <tr>\n",
       "      <th>6</th>\n",
       "      <td>double[pyarrow]</td>\n",
       "      <td>dictionary&lt;values=string, indices=int8, ordere...</td>\n",
       "    </tr>\n",
       "    <tr>\n",
       "      <th>7</th>\n",
       "      <td>double[pyarrow]</td>\n",
       "      <td>dictionary&lt;values=string, indices=int8, ordere...</td>\n",
       "    </tr>\n",
       "  </tbody>\n",
       "</table>\n",
       "</div>"
      ],
      "text/plain": [
       "                 0                                                  1\n",
       "0          float64                                           category\n",
       "1            Int64                                           category\n",
       "2   int64[pyarrow]                                           category\n",
       "3          float64                                           category\n",
       "4            Int64                                           category\n",
       "5   int64[pyarrow]                                           category\n",
       "6  double[pyarrow]  dictionary<values=string, indices=int8, ordere...\n",
       "7  double[pyarrow]  dictionary<values=string, indices=int8, ordere..."
      ]
     },
     "execution_count": 4,
     "metadata": {},
     "output_type": "execute_result"
    }
   ],
   "source": [
    "df['colB'] = df['colB'].astype('category')\n",
    "out = [\n",
    "    df,\n",
    "    df.convert_dtypes(),\n",
    "    df.convert_dtypes(dtype_backend='pyarrow'),\n",
    "    pa.Table.from_pandas(df).to_pandas(),\n",
    "    pa.Table.from_pandas(df).to_pandas().convert_dtypes(),\n",
    "    pa.Table.from_pandas(df).to_pandas().convert_dtypes(dtype_backend='pyarrow'),\n",
    "    pa.Table.from_pandas(df).to_pandas(types_mapper=pd.ArrowDtype),\n",
    "    # pa.Table.from_pandas(df).to_pandas(types_mapper=pd.ArrowDtype).convert_dtypes(),\n",
    "    pa.Table.from_pandas(df).to_pandas(types_mapper=pd.ArrowDtype).convert_dtypes(dtype_backend='pyarrow'),\n",
    "]\n",
    "pd.DataFrame([get_types(o) for o in out])"
   ]
  },
  {
   "cell_type": "code",
   "execution_count": null,
   "id": "213807d9-9f4d-44de-bd90-03a5e61c1650",
   "metadata": {},
   "outputs": [],
   "source": []
  },
  {
   "cell_type": "code",
   "execution_count": null,
   "id": "29b76e06-9721-421a-9780-afa02ec79e50",
   "metadata": {},
   "outputs": [],
   "source": []
  },
  {
   "cell_type": "code",
   "execution_count": null,
   "id": "31ce064e-fdd5-4f5f-892a-898b87fdc319",
   "metadata": {},
   "outputs": [],
   "source": []
  },
  {
   "cell_type": "code",
   "execution_count": 46,
   "id": "b78b3fd3-cb36-4660-9a91-1e009ce4eb95",
   "metadata": {},
   "outputs": [],
   "source": [
    "def canonicalize(df): # best one?\n",
    "    df = df.convert_dtypes(dtype_backend='pyarrow')\n",
    "    table = pa.Table.from_pandas(df)\n",
    "    df = table.to_pandas()\n",
    "    return df"
   ]
  },
  {
   "cell_type": "code",
   "execution_count": 47,
   "id": "c6cf8049-c1ac-42a0-bbec-ca12daba13db",
   "metadata": {},
   "outputs": [
    {
     "name": "stdout",
     "output_type": "stream",
     "text": [
      "<class 'pandas.core.frame.DataFrame'>\n",
      "RangeIndex: 4 entries, 0 to 3\n",
      "Data columns (total 2 columns):\n",
      " #   Column  Non-Null Count  Dtype         \n",
      "---  ------  --------------  -----         \n",
      " 0   colA    3 non-null      int64[pyarrow]\n",
      " 1   colB    3 non-null      category      \n",
      "dtypes: category(1), int64[pyarrow](1)\n",
      "memory usage: 301.0 bytes\n"
     ]
    }
   ],
   "source": [
    "canonicalize(df).info()"
   ]
  },
  {
   "cell_type": "code",
   "execution_count": 48,
   "id": "8ab4af61-6ee1-4cc9-944d-3c6b9355ff9d",
   "metadata": {},
   "outputs": [
    {
     "name": "stdout",
     "output_type": "stream",
     "text": [
      "<class 'pandas.core.frame.DataFrame'>\n",
      "RangeIndex: 4 entries, 0 to 3\n",
      "Data columns (total 2 columns):\n",
      " #   Column  Non-Null Count  Dtype         \n",
      "---  ------  --------------  -----         \n",
      " 0   colA    3 non-null      int64[pyarrow]\n",
      " 1   colB    3 non-null      category      \n",
      "dtypes: category(1), int64[pyarrow](1)\n",
      "memory usage: 301.0 bytes\n"
     ]
    }
   ],
   "source": [
    "pa.Table.from_pandas(canonicalize(df)).to_pandas().info()"
   ]
  },
  {
   "cell_type": "code",
   "execution_count": 49,
   "id": "b24209a5-5a8f-4b16-a3f6-b96386514d81",
   "metadata": {},
   "outputs": [],
   "source": [
    "def canonicalize(df): \n",
    "    df = df.convert_dtypes()\n",
    "    table = pa.Table.from_pandas(df)\n",
    "    df = table.to_pandas()\n",
    "    return df"
   ]
  },
  {
   "cell_type": "code",
   "execution_count": 51,
   "id": "ee5d48cb-93a2-4fa3-b010-aa1fc664dfce",
   "metadata": {},
   "outputs": [
    {
     "name": "stdout",
     "output_type": "stream",
     "text": [
      "<class 'pandas.core.frame.DataFrame'>\n",
      "RangeIndex: 4 entries, 0 to 3\n",
      "Data columns (total 2 columns):\n",
      " #   Column  Non-Null Count  Dtype   \n",
      "---  ------  --------------  -----   \n",
      " 0   colA    3 non-null      Int64   \n",
      " 1   colB    3 non-null      category\n",
      "dtypes: Int64(1), category(1)\n",
      "memory usage: 304.0 bytes\n"
     ]
    }
   ],
   "source": [
    "canonicalize(df).info()"
   ]
  },
  {
   "cell_type": "code",
   "execution_count": 52,
   "id": "950c0347-dcd3-421b-b503-3c7eb8aa9cc4",
   "metadata": {},
   "outputs": [
    {
     "name": "stdout",
     "output_type": "stream",
     "text": [
      "<class 'pandas.core.frame.DataFrame'>\n",
      "RangeIndex: 4 entries, 0 to 3\n",
      "Data columns (total 2 columns):\n",
      " #   Column  Non-Null Count  Dtype   \n",
      "---  ------  --------------  -----   \n",
      " 0   colA    3 non-null      Int64   \n",
      " 1   colB    3 non-null      category\n",
      "dtypes: Int64(1), category(1)\n",
      "memory usage: 304.0 bytes\n"
     ]
    }
   ],
   "source": [
    "pa.Table.from_pandas(canonicalize(df)).to_pandas().info()"
   ]
  },
  {
   "cell_type": "code",
   "execution_count": 36,
   "id": "3f9b285e-56f6-4908-addf-820a220aeaf8",
   "metadata": {},
   "outputs": [
    {
     "name": "stdout",
     "output_type": "stream",
     "text": [
      "<class 'pandas.core.frame.DataFrame'>\n",
      "RangeIndex: 4 entries, 0 to 3\n",
      "Data columns (total 2 columns):\n",
      " #   Column  Non-Null Count  Dtype   \n",
      "---  ------  --------------  -----   \n",
      " 0   colA    3 non-null      Int64   \n",
      " 1   colB    3 non-null      category\n",
      "dtypes: Int64(1), category(1)\n",
      "memory usage: 304.0 bytes\n"
     ]
    }
   ],
   "source": [
    "canonicalize(df).info()"
   ]
  },
  {
   "cell_type": "code",
   "execution_count": 53,
   "id": "62f5339a-8bab-4f51-ba38-f8f109524549",
   "metadata": {},
   "outputs": [],
   "source": [
    "def canonicalize(df): # not idempotent because error\n",
    "    df = df.convert_dtypes()\n",
    "    table = pa.Table.from_pandas(df)\n",
    "    df = table.to_pandas(types_mapper=pd.ArrowDtype)\n",
    "    return df"
   ]
  },
  {
   "cell_type": "code",
   "execution_count": 54,
   "id": "87ca5864-17bc-464f-807a-6baafadc6ee2",
   "metadata": {},
   "outputs": [
    {
     "name": "stdout",
     "output_type": "stream",
     "text": [
      "<class 'pandas.core.frame.DataFrame'>\n",
      "RangeIndex: 4 entries, 0 to 3\n",
      "Data columns (total 2 columns):\n",
      " #   Column  Non-Null Count  Dtype                                                      \n",
      "---  ------  --------------  -----                                                      \n",
      " 0   colA    3 non-null      int64[pyarrow]                                             \n",
      " 1   colB    3 non-null      dictionary<values=string, indices=int8, ordered=0>[pyarrow]\n",
      "dtypes: dictionary<values=string, indices=int8, ordered=0>[pyarrow](1), int64[pyarrow](1)\n",
      "memory usage: 185.0 bytes\n"
     ]
    }
   ],
   "source": [
    "canonicalize(df).info()"
   ]
  },
  {
   "cell_type": "code",
   "execution_count": null,
   "id": "4e9fafde-3ed1-43a6-b0e6-d42783934d5c",
   "metadata": {},
   "outputs": [],
   "source": []
  },
  {
   "cell_type": "code",
   "execution_count": 16,
   "id": "68347dcf-551e-4526-b8b3-1bfb2290bd18",
   "metadata": {},
   "outputs": [
    {
     "name": "stdout",
     "output_type": "stream",
     "text": [
      "<class 'pandas.core.frame.DataFrame'>\n",
      "RangeIndex: 4 entries, 0 to 3\n",
      "Data columns (total 2 columns):\n",
      " #   Column  Non-Null Count  Dtype         \n",
      "---  ------  --------------  -----         \n",
      " 0   colA    3 non-null      int64[pyarrow]\n",
      " 1   colB    3 non-null      category      \n",
      "dtypes: category(1), int64[pyarrow](1)\n",
      "memory usage: 301.0 bytes\n"
     ]
    }
   ],
   "source": [
    "(\n",
    "pa.Table.from_pandas(df.convert_dtypes(dtype_backend='pyarrow')).to_pandas().convert_dtypes(dtype_backend='pyarrow')\n",
    ").info()"
   ]
  },
  {
   "cell_type": "code",
   "execution_count": 6,
   "id": "b49877b6-f18f-42d2-b7f3-8ecb63b15a96",
   "metadata": {},
   "outputs": [
    {
     "name": "stdout",
     "output_type": "stream",
     "text": [
      "<class 'pandas.core.frame.DataFrame'>\n",
      "RangeIndex: 4 entries, 0 to 3\n",
      "Data columns (total 2 columns):\n",
      " #   Column  Non-Null Count  Dtype   \n",
      "---  ------  --------------  -----   \n",
      " 0   colA    3 non-null      float64 \n",
      " 1   colB    3 non-null      category\n",
      "dtypes: category(1), float64(1)\n",
      "memory usage: 300.0 bytes\n"
     ]
    }
   ],
   "source": [
    "pa.Table.from_pandas(df).to_pandas().info()"
   ]
  },
  {
   "cell_type": "code",
   "execution_count": 7,
   "id": "43e64987-b8f6-49f8-bfb6-23676be8e6f5",
   "metadata": {},
   "outputs": [
    {
     "ename": "KeyError",
     "evalue": "DictionaryType(dictionary<values=string, indices=int8, ordered=0>)",
     "output_type": "error",
     "traceback": [
      "\u001b[0;31m---------------------------------------------------------------------------\u001b[0m",
      "\u001b[0;31mKeyError\u001b[0m                                  Traceback (most recent call last)",
      "Cell \u001b[0;32mIn[7], line 1\u001b[0m\n\u001b[0;32m----> 1\u001b[0m \u001b[43mpa\u001b[49m\u001b[38;5;241;43m.\u001b[39;49m\u001b[43mTable\u001b[49m\u001b[38;5;241;43m.\u001b[39;49m\u001b[43mfrom_pandas\u001b[49m\u001b[43m(\u001b[49m\u001b[43mdf\u001b[49m\u001b[43m)\u001b[49m\u001b[38;5;241;43m.\u001b[39;49m\u001b[43mto_pandas\u001b[49m\u001b[43m(\u001b[49m\u001b[43mtypes_mapper\u001b[49m\u001b[38;5;241;43m=\u001b[39;49m\u001b[43mpd\u001b[49m\u001b[38;5;241;43m.\u001b[39;49m\u001b[43mArrowDtype\u001b[49m\u001b[43m)\u001b[49m\u001b[38;5;241;43m.\u001b[39;49m\u001b[43mconvert_dtypes\u001b[49m\u001b[43m(\u001b[49m\u001b[43m)\u001b[49m\n",
      "File \u001b[0;32m~/work/keepdb/env/lib/python3.11/site-packages/pandas/core/generic.py:7025\u001b[0m, in \u001b[0;36mNDFrame.convert_dtypes\u001b[0;34m(self, infer_objects, convert_string, convert_integer, convert_boolean, convert_floating, dtype_backend)\u001b[0m\n\u001b[1;32m   6896\u001b[0m \u001b[38;5;250m\u001b[39m\u001b[38;5;124;03m\"\"\"\u001b[39;00m\n\u001b[1;32m   6897\u001b[0m \u001b[38;5;124;03mConvert columns to the best possible dtypes using dtypes supporting ``pd.NA``.\u001b[39;00m\n\u001b[1;32m   6898\u001b[0m \n\u001b[0;32m   (...)\u001b[0m\n\u001b[1;32m   7022\u001b[0m \u001b[38;5;124;03mdtype: string\u001b[39;00m\n\u001b[1;32m   7023\u001b[0m \u001b[38;5;124;03m\"\"\"\u001b[39;00m\n\u001b[1;32m   7024\u001b[0m check_dtype_backend(dtype_backend)\n\u001b[0;32m-> 7025\u001b[0m new_mgr \u001b[38;5;241m=\u001b[39m \u001b[38;5;28;43mself\u001b[39;49m\u001b[38;5;241;43m.\u001b[39;49m\u001b[43m_mgr\u001b[49m\u001b[38;5;241;43m.\u001b[39;49m\u001b[43mconvert_dtypes\u001b[49m\u001b[43m(\u001b[49m\u001b[43m  \u001b[49m\u001b[38;5;66;43;03m# type: ignore[union-attr]\u001b[39;49;00m\n\u001b[1;32m   7026\u001b[0m \u001b[43m    \u001b[49m\u001b[43minfer_objects\u001b[49m\u001b[38;5;241;43m=\u001b[39;49m\u001b[43minfer_objects\u001b[49m\u001b[43m,\u001b[49m\n\u001b[1;32m   7027\u001b[0m \u001b[43m    \u001b[49m\u001b[43mconvert_string\u001b[49m\u001b[38;5;241;43m=\u001b[39;49m\u001b[43mconvert_string\u001b[49m\u001b[43m,\u001b[49m\n\u001b[1;32m   7028\u001b[0m \u001b[43m    \u001b[49m\u001b[43mconvert_integer\u001b[49m\u001b[38;5;241;43m=\u001b[39;49m\u001b[43mconvert_integer\u001b[49m\u001b[43m,\u001b[49m\n\u001b[1;32m   7029\u001b[0m \u001b[43m    \u001b[49m\u001b[43mconvert_boolean\u001b[49m\u001b[38;5;241;43m=\u001b[39;49m\u001b[43mconvert_boolean\u001b[49m\u001b[43m,\u001b[49m\n\u001b[1;32m   7030\u001b[0m \u001b[43m    \u001b[49m\u001b[43mconvert_floating\u001b[49m\u001b[38;5;241;43m=\u001b[39;49m\u001b[43mconvert_floating\u001b[49m\u001b[43m,\u001b[49m\n\u001b[1;32m   7031\u001b[0m \u001b[43m    \u001b[49m\u001b[43mdtype_backend\u001b[49m\u001b[38;5;241;43m=\u001b[39;49m\u001b[43mdtype_backend\u001b[49m\u001b[43m,\u001b[49m\n\u001b[1;32m   7032\u001b[0m \u001b[43m\u001b[49m\u001b[43m)\u001b[49m\n\u001b[1;32m   7033\u001b[0m res \u001b[38;5;241m=\u001b[39m \u001b[38;5;28mself\u001b[39m\u001b[38;5;241m.\u001b[39m_constructor_from_mgr(new_mgr, axes\u001b[38;5;241m=\u001b[39mnew_mgr\u001b[38;5;241m.\u001b[39maxes)\n\u001b[1;32m   7034\u001b[0m \u001b[38;5;28;01mreturn\u001b[39;00m res\u001b[38;5;241m.\u001b[39m__finalize__(\u001b[38;5;28mself\u001b[39m, method\u001b[38;5;241m=\u001b[39m\u001b[38;5;124m\"\u001b[39m\u001b[38;5;124mconvert_dtypes\u001b[39m\u001b[38;5;124m\"\u001b[39m)\n",
      "File \u001b[0;32m~/work/keepdb/env/lib/python3.11/site-packages/pandas/core/internals/managers.py:456\u001b[0m, in \u001b[0;36mBaseBlockManager.convert_dtypes\u001b[0;34m(self, **kwargs)\u001b[0m\n\u001b[1;32m    453\u001b[0m \u001b[38;5;28;01melse\u001b[39;00m:\n\u001b[1;32m    454\u001b[0m     copy \u001b[38;5;241m=\u001b[39m \u001b[38;5;28;01mTrue\u001b[39;00m\n\u001b[0;32m--> 456\u001b[0m \u001b[38;5;28;01mreturn\u001b[39;00m \u001b[38;5;28;43mself\u001b[39;49m\u001b[38;5;241;43m.\u001b[39;49m\u001b[43mapply\u001b[49m\u001b[43m(\u001b[49m\n\u001b[1;32m    457\u001b[0m \u001b[43m    \u001b[49m\u001b[38;5;124;43m\"\u001b[39;49m\u001b[38;5;124;43mconvert_dtypes\u001b[39;49m\u001b[38;5;124;43m\"\u001b[39;49m\u001b[43m,\u001b[49m\u001b[43m \u001b[49m\u001b[43mcopy\u001b[49m\u001b[38;5;241;43m=\u001b[39;49m\u001b[43mcopy\u001b[49m\u001b[43m,\u001b[49m\u001b[43m \u001b[49m\u001b[43musing_cow\u001b[49m\u001b[38;5;241;43m=\u001b[39;49m\u001b[43musing_copy_on_write\u001b[49m\u001b[43m(\u001b[49m\u001b[43m)\u001b[49m\u001b[43m,\u001b[49m\u001b[43m \u001b[49m\u001b[38;5;241;43m*\u001b[39;49m\u001b[38;5;241;43m*\u001b[39;49m\u001b[43mkwargs\u001b[49m\n\u001b[1;32m    458\u001b[0m \u001b[43m\u001b[49m\u001b[43m)\u001b[49m\n",
      "File \u001b[0;32m~/work/keepdb/env/lib/python3.11/site-packages/pandas/core/internals/managers.py:364\u001b[0m, in \u001b[0;36mBaseBlockManager.apply\u001b[0;34m(self, f, align_keys, **kwargs)\u001b[0m\n\u001b[1;32m    362\u001b[0m         applied \u001b[38;5;241m=\u001b[39m b\u001b[38;5;241m.\u001b[39mapply(f, \u001b[38;5;241m*\u001b[39m\u001b[38;5;241m*\u001b[39mkwargs)\n\u001b[1;32m    363\u001b[0m     \u001b[38;5;28;01melse\u001b[39;00m:\n\u001b[0;32m--> 364\u001b[0m         applied \u001b[38;5;241m=\u001b[39m \u001b[38;5;28;43mgetattr\u001b[39;49m\u001b[43m(\u001b[49m\u001b[43mb\u001b[49m\u001b[43m,\u001b[49m\u001b[43m \u001b[49m\u001b[43mf\u001b[49m\u001b[43m)\u001b[49m\u001b[43m(\u001b[49m\u001b[38;5;241;43m*\u001b[39;49m\u001b[38;5;241;43m*\u001b[39;49m\u001b[43mkwargs\u001b[49m\u001b[43m)\u001b[49m\n\u001b[1;32m    365\u001b[0m     result_blocks \u001b[38;5;241m=\u001b[39m extend_blocks(applied, result_blocks)\n\u001b[1;32m    367\u001b[0m out \u001b[38;5;241m=\u001b[39m \u001b[38;5;28mtype\u001b[39m(\u001b[38;5;28mself\u001b[39m)\u001b[38;5;241m.\u001b[39mfrom_blocks(result_blocks, \u001b[38;5;28mself\u001b[39m\u001b[38;5;241m.\u001b[39maxes)\n",
      "File \u001b[0;32m~/work/keepdb/env/lib/python3.11/site-packages/pandas/core/internals/blocks.py:694\u001b[0m, in \u001b[0;36mBlock.convert_dtypes\u001b[0;34m(self, copy, using_cow, infer_objects, convert_string, convert_integer, convert_boolean, convert_floating, dtype_backend)\u001b[0m\n\u001b[1;32m    691\u001b[0m \u001b[38;5;28;01mfor\u001b[39;00m blk \u001b[38;5;129;01min\u001b[39;00m blks:\n\u001b[1;32m    692\u001b[0m     \u001b[38;5;66;03m# Determine dtype column by column\u001b[39;00m\n\u001b[1;32m    693\u001b[0m     sub_blks \u001b[38;5;241m=\u001b[39m [blk] \u001b[38;5;28;01mif\u001b[39;00m blk\u001b[38;5;241m.\u001b[39mndim \u001b[38;5;241m==\u001b[39m \u001b[38;5;241m1\u001b[39m \u001b[38;5;129;01mor\u001b[39;00m \u001b[38;5;28mself\u001b[39m\u001b[38;5;241m.\u001b[39mshape[\u001b[38;5;241m0\u001b[39m] \u001b[38;5;241m==\u001b[39m \u001b[38;5;241m1\u001b[39m \u001b[38;5;28;01melse\u001b[39;00m blk\u001b[38;5;241m.\u001b[39m_split()\n\u001b[0;32m--> 694\u001b[0m     dtypes \u001b[38;5;241m=\u001b[39m \u001b[43m[\u001b[49m\n\u001b[1;32m    695\u001b[0m \u001b[43m        \u001b[49m\u001b[43mconvert_dtypes\u001b[49m\u001b[43m(\u001b[49m\n\u001b[1;32m    696\u001b[0m \u001b[43m            \u001b[49m\u001b[43mb\u001b[49m\u001b[38;5;241;43m.\u001b[39;49m\u001b[43mvalues\u001b[49m\u001b[43m,\u001b[49m\n\u001b[1;32m    697\u001b[0m \u001b[43m            \u001b[49m\u001b[43mconvert_string\u001b[49m\u001b[43m,\u001b[49m\n\u001b[1;32m    698\u001b[0m \u001b[43m            \u001b[49m\u001b[43mconvert_integer\u001b[49m\u001b[43m,\u001b[49m\n\u001b[1;32m    699\u001b[0m \u001b[43m            \u001b[49m\u001b[43mconvert_boolean\u001b[49m\u001b[43m,\u001b[49m\n\u001b[1;32m    700\u001b[0m \u001b[43m            \u001b[49m\u001b[43mconvert_floating\u001b[49m\u001b[43m,\u001b[49m\n\u001b[1;32m    701\u001b[0m \u001b[43m            \u001b[49m\u001b[43minfer_objects\u001b[49m\u001b[43m,\u001b[49m\n\u001b[1;32m    702\u001b[0m \u001b[43m            \u001b[49m\u001b[43mdtype_backend\u001b[49m\u001b[43m,\u001b[49m\n\u001b[1;32m    703\u001b[0m \u001b[43m        \u001b[49m\u001b[43m)\u001b[49m\n\u001b[1;32m    704\u001b[0m \u001b[43m        \u001b[49m\u001b[38;5;28;43;01mfor\u001b[39;49;00m\u001b[43m \u001b[49m\u001b[43mb\u001b[49m\u001b[43m \u001b[49m\u001b[38;5;129;43;01min\u001b[39;49;00m\u001b[43m \u001b[49m\u001b[43msub_blks\u001b[49m\n\u001b[1;32m    705\u001b[0m \u001b[43m    \u001b[49m\u001b[43m]\u001b[49m\n\u001b[1;32m    706\u001b[0m     \u001b[38;5;28;01mif\u001b[39;00m \u001b[38;5;28mall\u001b[39m(dtype \u001b[38;5;241m==\u001b[39m \u001b[38;5;28mself\u001b[39m\u001b[38;5;241m.\u001b[39mdtype \u001b[38;5;28;01mfor\u001b[39;00m dtype \u001b[38;5;129;01min\u001b[39;00m dtypes):\n\u001b[1;32m    707\u001b[0m         \u001b[38;5;66;03m# Avoid block splitting if no dtype changes\u001b[39;00m\n\u001b[1;32m    708\u001b[0m         rbs\u001b[38;5;241m.\u001b[39mappend(blk\u001b[38;5;241m.\u001b[39mcopy(deep\u001b[38;5;241m=\u001b[39mcopy))\n",
      "File \u001b[0;32m~/work/keepdb/env/lib/python3.11/site-packages/pandas/core/internals/blocks.py:695\u001b[0m, in \u001b[0;36m<listcomp>\u001b[0;34m(.0)\u001b[0m\n\u001b[1;32m    691\u001b[0m \u001b[38;5;28;01mfor\u001b[39;00m blk \u001b[38;5;129;01min\u001b[39;00m blks:\n\u001b[1;32m    692\u001b[0m     \u001b[38;5;66;03m# Determine dtype column by column\u001b[39;00m\n\u001b[1;32m    693\u001b[0m     sub_blks \u001b[38;5;241m=\u001b[39m [blk] \u001b[38;5;28;01mif\u001b[39;00m blk\u001b[38;5;241m.\u001b[39mndim \u001b[38;5;241m==\u001b[39m \u001b[38;5;241m1\u001b[39m \u001b[38;5;129;01mor\u001b[39;00m \u001b[38;5;28mself\u001b[39m\u001b[38;5;241m.\u001b[39mshape[\u001b[38;5;241m0\u001b[39m] \u001b[38;5;241m==\u001b[39m \u001b[38;5;241m1\u001b[39m \u001b[38;5;28;01melse\u001b[39;00m blk\u001b[38;5;241m.\u001b[39m_split()\n\u001b[1;32m    694\u001b[0m     dtypes \u001b[38;5;241m=\u001b[39m [\n\u001b[0;32m--> 695\u001b[0m         \u001b[43mconvert_dtypes\u001b[49m\u001b[43m(\u001b[49m\n\u001b[1;32m    696\u001b[0m \u001b[43m            \u001b[49m\u001b[43mb\u001b[49m\u001b[38;5;241;43m.\u001b[39;49m\u001b[43mvalues\u001b[49m\u001b[43m,\u001b[49m\n\u001b[1;32m    697\u001b[0m \u001b[43m            \u001b[49m\u001b[43mconvert_string\u001b[49m\u001b[43m,\u001b[49m\n\u001b[1;32m    698\u001b[0m \u001b[43m            \u001b[49m\u001b[43mconvert_integer\u001b[49m\u001b[43m,\u001b[49m\n\u001b[1;32m    699\u001b[0m \u001b[43m            \u001b[49m\u001b[43mconvert_boolean\u001b[49m\u001b[43m,\u001b[49m\n\u001b[1;32m    700\u001b[0m \u001b[43m            \u001b[49m\u001b[43mconvert_floating\u001b[49m\u001b[43m,\u001b[49m\n\u001b[1;32m    701\u001b[0m \u001b[43m            \u001b[49m\u001b[43minfer_objects\u001b[49m\u001b[43m,\u001b[49m\n\u001b[1;32m    702\u001b[0m \u001b[43m            \u001b[49m\u001b[43mdtype_backend\u001b[49m\u001b[43m,\u001b[49m\n\u001b[1;32m    703\u001b[0m \u001b[43m        \u001b[49m\u001b[43m)\u001b[49m\n\u001b[1;32m    704\u001b[0m         \u001b[38;5;28;01mfor\u001b[39;00m b \u001b[38;5;129;01min\u001b[39;00m sub_blks\n\u001b[1;32m    705\u001b[0m     ]\n\u001b[1;32m    706\u001b[0m     \u001b[38;5;28;01mif\u001b[39;00m \u001b[38;5;28mall\u001b[39m(dtype \u001b[38;5;241m==\u001b[39m \u001b[38;5;28mself\u001b[39m\u001b[38;5;241m.\u001b[39mdtype \u001b[38;5;28;01mfor\u001b[39;00m dtype \u001b[38;5;129;01min\u001b[39;00m dtypes):\n\u001b[1;32m    707\u001b[0m         \u001b[38;5;66;03m# Avoid block splitting if no dtype changes\u001b[39;00m\n\u001b[1;32m    708\u001b[0m         rbs\u001b[38;5;241m.\u001b[39mappend(blk\u001b[38;5;241m.\u001b[39mcopy(deep\u001b[38;5;241m=\u001b[39mcopy))\n",
      "File \u001b[0;32m~/work/keepdb/env/lib/python3.11/site-packages/pandas/core/dtypes/cast.py:1150\u001b[0m, in \u001b[0;36mconvert_dtypes\u001b[0;34m(input_array, convert_string, convert_integer, convert_boolean, convert_floating, infer_objects, dtype_backend)\u001b[0m\n\u001b[1;32m   1147\u001b[0m             inferred_dtype \u001b[38;5;241m=\u001b[39m ArrowDtype(pa_type)\n\u001b[1;32m   1148\u001b[0m \u001b[38;5;28;01melif\u001b[39;00m dtype_backend \u001b[38;5;241m==\u001b[39m \u001b[38;5;124m\"\u001b[39m\u001b[38;5;124mnumpy_nullable\u001b[39m\u001b[38;5;124m\"\u001b[39m \u001b[38;5;129;01mand\u001b[39;00m \u001b[38;5;28misinstance\u001b[39m(inferred_dtype, ArrowDtype):\n\u001b[1;32m   1149\u001b[0m     \u001b[38;5;66;03m# GH 53648\u001b[39;00m\n\u001b[0;32m-> 1150\u001b[0m     inferred_dtype \u001b[38;5;241m=\u001b[39m \u001b[43m_arrow_dtype_mapping\u001b[49m\u001b[43m(\u001b[49m\u001b[43m)\u001b[49m\u001b[43m[\u001b[49m\u001b[43minferred_dtype\u001b[49m\u001b[38;5;241;43m.\u001b[39;49m\u001b[43mpyarrow_dtype\u001b[49m\u001b[43m]\u001b[49m\n\u001b[1;32m   1152\u001b[0m \u001b[38;5;66;03m# error: Incompatible return value type (got \"Union[str, Union[dtype[Any],\u001b[39;00m\n\u001b[1;32m   1153\u001b[0m \u001b[38;5;66;03m# ExtensionDtype]]\", expected \"Union[dtype[Any], ExtensionDtype]\")\u001b[39;00m\n\u001b[1;32m   1154\u001b[0m \u001b[38;5;28;01mreturn\u001b[39;00m inferred_dtype\n",
      "\u001b[0;31mKeyError\u001b[0m: DictionaryType(dictionary<values=string, indices=int8, ordered=0>)"
     ]
    }
   ],
   "source": [
    "pa.Table.from_pandas(df).to_pandas(types_mapper=pd.ArrowDtype).convert_dtypes()"
   ]
  },
  {
   "cell_type": "code",
   "execution_count": null,
   "id": "59f6981a-6067-433e-a2d1-bf7fb677b9a5",
   "metadata": {},
   "outputs": [],
   "source": []
  }
 ],
 "metadata": {
  "kernelspec": {
   "display_name": "Python 3 (ipykernel)",
   "language": "python",
   "name": "python3"
  },
  "language_info": {
   "codemirror_mode": {
    "name": "ipython",
    "version": 3
   },
   "file_extension": ".py",
   "mimetype": "text/x-python",
   "name": "python",
   "nbconvert_exporter": "python",
   "pygments_lexer": "ipython3",
   "version": "3.11.2"
  }
 },
 "nbformat": 4,
 "nbformat_minor": 5
}
