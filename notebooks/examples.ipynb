{
 "cells": [
  {
   "cell_type": "code",
   "execution_count": 1,
   "id": "abea86a4-72c4-4030-83e5-916bb619cf60",
   "metadata": {},
   "outputs": [],
   "source": [
    "import seaborn as sns\n",
    "\n",
    "keys = [\n",
    "    'diamonds',\n",
    "    'car_crashes',\n",
    "]\n",
    "\n",
    "dfs = {\n",
    "    k: sns.load_dataset(k)\n",
    "    for k in keys\n",
    "}"
   ]
  },
  {
   "cell_type": "code",
   "execution_count": 2,
   "id": "5f32eaa7-935b-4fd0-bd51-1f95f73c9333",
   "metadata": {},
   "outputs": [
    {
     "name": "stdout",
     "output_type": "stream",
     "text": [
      "Dataframe: diamonds\n",
      "<class 'pandas.core.frame.DataFrame'>\n",
      "RangeIndex: 53940 entries, 0 to 53939\n",
      "Data columns (total 10 columns):\n",
      " #   Column   Non-Null Count  Dtype   \n",
      "---  ------   --------------  -----   \n",
      " 0   carat    53940 non-null  float64 \n",
      " 1   cut      53940 non-null  category\n",
      " 2   color    53940 non-null  category\n",
      " 3   clarity  53940 non-null  category\n",
      " 4   depth    53940 non-null  float64 \n",
      " 5   table    53940 non-null  float64 \n",
      " 6   price    53940 non-null  int64   \n",
      " 7   x        53940 non-null  float64 \n",
      " 8   y        53940 non-null  float64 \n",
      " 9   z        53940 non-null  float64 \n",
      "dtypes: category(3), float64(6), int64(1)\n",
      "memory usage: 3.0 MB\n",
      "\n",
      "Dataframe: car_crashes\n",
      "<class 'pandas.core.frame.DataFrame'>\n",
      "RangeIndex: 51 entries, 0 to 50\n",
      "Data columns (total 8 columns):\n",
      " #   Column          Non-Null Count  Dtype  \n",
      "---  ------          --------------  -----  \n",
      " 0   total           51 non-null     float64\n",
      " 1   speeding        51 non-null     float64\n",
      " 2   alcohol         51 non-null     float64\n",
      " 3   not_distracted  51 non-null     float64\n",
      " 4   no_previous     51 non-null     float64\n",
      " 5   ins_premium     51 non-null     float64\n",
      " 6   ins_losses      51 non-null     float64\n",
      " 7   abbrev          51 non-null     object \n",
      "dtypes: float64(7), object(1)\n",
      "memory usage: 3.3+ KB\n",
      "\n"
     ]
    }
   ],
   "source": [
    "def print_info(dfs):\n",
    "    for k, df in dfs.items():\n",
    "        print(f'Dataframe: {k}')\n",
    "        df.info()\n",
    "        print()\n",
    "\n",
    "print_info(dfs)"
   ]
  },
  {
   "cell_type": "code",
   "execution_count": 3,
   "id": "bd7ad6ec-6390-47c3-acf7-57b60dfe6efa",
   "metadata": {},
   "outputs": [
    {
     "name": "stdout",
     "output_type": "stream",
     "text": [
      "Dataframe: diamonds\n",
      "<class 'pandas.core.frame.DataFrame'>\n",
      "RangeIndex: 53940 entries, 0 to 53939\n",
      "Data columns (total 10 columns):\n",
      " #   Column   Non-Null Count  Dtype   \n",
      "---  ------   --------------  -----   \n",
      " 0   carat    53940 non-null  float64 \n",
      " 1   cut      53940 non-null  category\n",
      " 2   color    53940 non-null  category\n",
      " 3   clarity  53940 non-null  category\n",
      " 4   depth    53940 non-null  float64 \n",
      " 5   table    53940 non-null  float64 \n",
      " 6   price    53940 non-null  int64   \n",
      " 7   x        53940 non-null  float64 \n",
      " 8   y        53940 non-null  float64 \n",
      " 9   z        53940 non-null  float64 \n",
      "dtypes: category(3), float64(6), int64(1)\n",
      "memory usage: 3.0 MB\n",
      "\n",
      "Dataframe: car_crashes\n",
      "<class 'pandas.core.frame.DataFrame'>\n",
      "RangeIndex: 51 entries, 0 to 50\n",
      "Data columns (total 8 columns):\n",
      " #   Column          Non-Null Count  Dtype  \n",
      "---  ------          --------------  -----  \n",
      " 0   total           51 non-null     float64\n",
      " 1   speeding        51 non-null     float64\n",
      " 2   alcohol         51 non-null     float64\n",
      " 3   not_distracted  51 non-null     float64\n",
      " 4   no_previous     51 non-null     float64\n",
      " 5   ins_premium     51 non-null     float64\n",
      " 6   ins_losses      51 non-null     float64\n",
      " 7   abbrev          51 non-null     object \n",
      "dtypes: float64(7), object(1)\n",
      "memory usage: 3.3+ KB\n",
      "\n"
     ]
    }
   ],
   "source": [
    "import keepdb as kd\n",
    "\n",
    "filename = 'test_file.zip'\n",
    "kd.to_zip(filename, dfs)\n",
    "dfs2 = kd.from_zip(filename)\n",
    "\n",
    "print_info(dfs2)"
   ]
  },
  {
   "cell_type": "markdown",
   "id": "e624dfbb-c83a-4f25-a614-51f19a04f3d6",
   "metadata": {},
   "source": [
    "# PyArrow\n",
    "\n",
    "You can also work directly with [`pyarrow.Table` objects](https://arrow.apache.org/docs/python/generated/pyarrow.Table.html).\n",
    "This may be useful to avoid dtype conversion issues that occur with Pandas DataFrames."
   ]
  },
  {
   "cell_type": "code",
   "execution_count": 4,
   "id": "9ec42417-afbd-4098-a079-d4ae2a93fafb",
   "metadata": {},
   "outputs": [
    {
     "data": {
      "text/plain": [
       "pyarrow.Table\n",
       "carat: double\n",
       "cut: dictionary<values=string, indices=int32, ordered=0>\n",
       "color: dictionary<values=string, indices=int32, ordered=0>\n",
       "clarity: dictionary<values=string, indices=int32, ordered=0>\n",
       "depth: double\n",
       "table: double\n",
       "price: int64\n",
       "x: double\n",
       "y: double\n",
       "z: double\n",
       "----\n",
       "carat: [[0.23,0.21,0.23,0.29,0.31,...,0.72,0.72,0.7,0.86,0.75]]\n",
       "cut: [  -- dictionary:\n",
       "[\"Ideal\",\"Premium\",\"Very Good\",\"Good\",\"Fair\"]  -- indices:\n",
       "[0,1,3,1,3,...,0,3,2,1,0]]\n",
       "color: [  -- dictionary:\n",
       "[\"D\",\"E\",\"F\",\"G\",\"H\",\"I\",\"J\"]  -- indices:\n",
       "[1,1,1,5,6,...,0,0,0,4,0]]\n",
       "clarity: [  -- dictionary:\n",
       "[\"IF\",\"VVS1\",\"VVS2\",\"VS1\",\"VS2\",\"SI1\",\"SI2\",\"I1\"]  -- indices:\n",
       "[6,5,3,4,6,...,5,5,5,6,6]]\n",
       "depth: [[61.5,59.8,56.9,62.4,63.3,...,60.8,63.1,62.8,61,62.2]]\n",
       "table: [[55,61,65,58,58,...,57,55,60,58,55]]\n",
       "price: [[326,326,327,334,335,...,2757,2757,2757,2757,2757]]\n",
       "x: [[3.95,3.89,4.05,4.2,4.34,...,5.75,5.69,5.66,6.15,5.83]]\n",
       "y: [[3.98,3.84,4.07,4.23,4.35,...,5.76,5.75,5.68,6.12,5.87]]\n",
       "z: [[2.43,2.31,2.31,2.63,2.75,...,3.5,3.61,3.56,3.74,3.64]]"
      ]
     },
     "execution_count": 4,
     "metadata": {},
     "output_type": "execute_result"
    }
   ],
   "source": [
    "# read from the existing zip file\n",
    "\n",
    "tables = kd.pa.from_zip(filename)\n",
    "tables['diamonds']"
   ]
  },
  {
   "cell_type": "markdown",
   "id": "c1041760-49c7-400c-8430-64ab8d7e0ef1",
   "metadata": {},
   "source": [
    "Use `keepdb.pa.to_zip()` to write `pyarrow.Table`s to parquet.\n",
    "\n",
    "Note that `keepdb.to_zip()` is the same as `keepdb.pd.to_zip()`, and this function simply converts Pandas DataFrames\n",
    "to PyArrow Tables before calling `keepdb.pa.to_zip()`."
   ]
  },
  {
   "cell_type": "code",
   "execution_count": 5,
   "id": "1b45fae0-a820-4378-b1c4-426dc0e689b1",
   "metadata": {},
   "outputs": [],
   "source": [
    "kd.pa.to_zip(filename, tables)"
   ]
  },
  {
   "cell_type": "markdown",
   "id": "203d0828-218e-49a7-92c9-eb787c02cfe9",
   "metadata": {},
   "source": [
    "Use `kd.pa.from_zip()` to return PyArrow Tables instead of DataFrames."
   ]
  },
  {
   "cell_type": "code",
   "execution_count": 6,
   "id": "0e90eab7-0b5b-4793-b3e0-fe714e446b79",
   "metadata": {},
   "outputs": [],
   "source": [
    "tables = kd.pa.from_zip(filename)"
   ]
  },
  {
   "cell_type": "code",
   "execution_count": 7,
   "id": "19cb90d8-bafe-43f5-93af-df701dfa09cc",
   "metadata": {},
   "outputs": [
    {
     "data": {
      "text/plain": [
       "pyarrow.Table\n",
       "carat: double\n",
       "cut: dictionary<values=string, indices=int32, ordered=0>\n",
       "color: dictionary<values=string, indices=int32, ordered=0>\n",
       "clarity: dictionary<values=string, indices=int32, ordered=0>\n",
       "depth: double\n",
       "table: double\n",
       "price: int64\n",
       "x: double\n",
       "y: double\n",
       "z: double\n",
       "----\n",
       "carat: [[0.23,0.21,0.23,0.29,0.31,...,0.72,0.72,0.7,0.86,0.75]]\n",
       "cut: [  -- dictionary:\n",
       "[\"Ideal\",\"Premium\",\"Very Good\",\"Good\",\"Fair\"]  -- indices:\n",
       "[0,1,3,1,3,...,0,3,2,1,0]]\n",
       "color: [  -- dictionary:\n",
       "[\"D\",\"E\",\"F\",\"G\",\"H\",\"I\",\"J\"]  -- indices:\n",
       "[1,1,1,5,6,...,0,0,0,4,0]]\n",
       "clarity: [  -- dictionary:\n",
       "[\"IF\",\"VVS1\",\"VVS2\",\"VS1\",\"VS2\",\"SI1\",\"SI2\",\"I1\"]  -- indices:\n",
       "[6,5,3,4,6,...,5,5,5,6,6]]\n",
       "depth: [[61.5,59.8,56.9,62.4,63.3,...,60.8,63.1,62.8,61,62.2]]\n",
       "table: [[55,61,65,58,58,...,57,55,60,58,55]]\n",
       "price: [[326,326,327,334,335,...,2757,2757,2757,2757,2757]]\n",
       "x: [[3.95,3.89,4.05,4.2,4.34,...,5.75,5.69,5.66,6.15,5.83]]\n",
       "y: [[3.98,3.84,4.07,4.23,4.35,...,5.76,5.75,5.68,6.12,5.87]]\n",
       "z: [[2.43,2.31,2.31,2.63,2.75,...,3.5,3.61,3.56,3.74,3.64]]"
      ]
     },
     "execution_count": 7,
     "metadata": {},
     "output_type": "execute_result"
    }
   ],
   "source": [
    "tables['diamonds']"
   ]
  },
  {
   "cell_type": "code",
   "execution_count": null,
   "id": "9758a2ab-e4ff-47a8-9d65-5eeb8955be7a",
   "metadata": {},
   "outputs": [],
   "source": []
  }
 ],
 "metadata": {
  "kernelspec": {
   "display_name": "Python 3 (ipykernel)",
   "language": "python",
   "name": "python3"
  },
  "language_info": {
   "codemirror_mode": {
    "name": "ipython",
    "version": 3
   },
   "file_extension": ".py",
   "mimetype": "text/x-python",
   "name": "python",
   "nbconvert_exporter": "python",
   "pygments_lexer": "ipython3",
   "version": "3.11.1"
  }
 },
 "nbformat": 4,
 "nbformat_minor": 5
}
