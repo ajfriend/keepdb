{
 "cells": [
  {
   "cell_type": "code",
   "execution_count": 1,
   "id": "ba0a411d-0611-4446-90c2-12b428f96768",
   "metadata": {},
   "outputs": [],
   "source": [
    "import pandas as pd\n",
    "import pyarrow as pa\n",
    "import pyarrow.parquet as pq\n",
    "import seaborn as sns\n",
    "import tempfile\n",
    "import keepdb"
   ]
  },
  {
   "cell_type": "code",
   "execution_count": 11,
   "id": "6c982e4c-7418-4849-be12-7733e0ccc141",
   "metadata": {},
   "outputs": [],
   "source": [
    "keys = [\n",
    "    'diamonds',\n",
    "    'car_crashes',\n",
    "]\n",
    "\n",
    "dfict = {\n",
    "    k: sns.load_dataset(k)\n",
    "    for k in keys\n",
    "}\n",
    "\n",
    "with tempfile.TemporaryFile() as f:\n",
    "    keepdb.to_from.standard.dfs_to_zip(f, dfict)\n",
    "    dfict2 = keepdb.to_from.standard.zip_to_dfs(f, use_arrow_dtypes=True)\n",
    "\n",
    "# keepdb.are_df_dicts_equal(dfict, dfict2)"
   ]
  },
  {
   "cell_type": "code",
   "execution_count": 8,
   "id": "bde868bd-9308-42ba-83c2-889d2c9e1f45",
   "metadata": {},
   "outputs": [
    {
     "name": "stdout",
     "output_type": "stream",
     "text": [
      "<class 'pandas.core.frame.DataFrame'>\n",
      "RangeIndex: 53940 entries, 0 to 53939\n",
      "Data columns (total 10 columns):\n",
      " #   Column   Non-Null Count  Dtype   \n",
      "---  ------   --------------  -----   \n",
      " 0   carat    53940 non-null  float64 \n",
      " 1   cut      53940 non-null  category\n",
      " 2   color    53940 non-null  category\n",
      " 3   clarity  53940 non-null  category\n",
      " 4   depth    53940 non-null  float64 \n",
      " 5   table    53940 non-null  float64 \n",
      " 6   price    53940 non-null  int64   \n",
      " 7   x        53940 non-null  float64 \n",
      " 8   y        53940 non-null  float64 \n",
      " 9   z        53940 non-null  float64 \n",
      "dtypes: category(3), float64(6), int64(1)\n",
      "memory usage: 3.0 MB\n"
     ]
    }
   ],
   "source": [
    "dfict['diamonds'].info()"
   ]
  },
  {
   "cell_type": "code",
   "execution_count": 9,
   "id": "0c77aade-514d-4a1e-b898-ac3134bc67e0",
   "metadata": {},
   "outputs": [
    {
     "name": "stdout",
     "output_type": "stream",
     "text": [
      "<class 'pandas.core.frame.DataFrame'>\n",
      "RangeIndex: 53940 entries, 0 to 53939\n",
      "Data columns (total 10 columns):\n",
      " #   Column   Non-Null Count  Dtype                                                       \n",
      "---  ------   --------------  -----                                                       \n",
      " 0   carat    53940 non-null  double[pyarrow]                                             \n",
      " 1   cut      53940 non-null  dictionary<values=string, indices=int32, ordered=0>[pyarrow]\n",
      " 2   color    53940 non-null  dictionary<values=string, indices=int32, ordered=0>[pyarrow]\n",
      " 3   clarity  53940 non-null  dictionary<values=string, indices=int32, ordered=0>[pyarrow]\n",
      " 4   depth    53940 non-null  double[pyarrow]                                             \n",
      " 5   table    53940 non-null  double[pyarrow]                                             \n",
      " 6   price    53940 non-null  int64[pyarrow]                                              \n",
      " 7   x        53940 non-null  double[pyarrow]                                             \n",
      " 8   y        53940 non-null  double[pyarrow]                                             \n",
      " 9   z        53940 non-null  double[pyarrow]                                             \n",
      "dtypes: dictionary<values=string, indices=int32, ordered=0>[pyarrow](3), double[pyarrow](6), int64[pyarrow](1)\n",
      "memory usage: 3.5 MB\n"
     ]
    }
   ],
   "source": [
    "dfict2['diamonds'].info()"
   ]
  },
  {
   "cell_type": "code",
   "execution_count": null,
   "id": "1e3bd2f7-6b54-4bef-848e-6e360131890e",
   "metadata": {},
   "outputs": [],
   "source": []
  }
 ],
 "metadata": {
  "kernelspec": {
   "display_name": "Python 3 (ipykernel)",
   "language": "python",
   "name": "python3"
  },
  "language_info": {
   "codemirror_mode": {
    "name": "ipython",
    "version": 3
   },
   "file_extension": ".py",
   "mimetype": "text/x-python",
   "name": "python",
   "nbconvert_exporter": "python",
   "pygments_lexer": "ipython3",
   "version": "3.11.1"
  }
 },
 "nbformat": 4,
 "nbformat_minor": 5
}
