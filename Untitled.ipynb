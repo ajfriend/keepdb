{
 "cells": [
  {
   "cell_type": "code",
   "execution_count": 1,
   "id": "06c1cab0-62b7-458d-91f4-009f9fb7d1f7",
   "metadata": {},
   "outputs": [],
   "source": [
    "import keepdb"
   ]
  },
  {
   "cell_type": "code",
   "execution_count": 2,
   "id": "83af9431-cc72-4540-8074-a8aa18234965",
   "metadata": {},
   "outputs": [
    {
     "data": {
      "text/plain": [
       "'0.0.42'"
      ]
     },
     "execution_count": 2,
     "metadata": {},
     "output_type": "execute_result"
    }
   ],
   "source": [
    "keepdb.__version__"
   ]
  },
  {
   "cell_type": "code",
   "execution_count": null,
   "id": "a97178d4-ab85-4b14-94d3-485d306260b4",
   "metadata": {},
   "outputs": [],
   "source": []
  }
 ],
 "metadata": {
  "kernelspec": {
   "display_name": "Python 3 (ipykernel)",
   "language": "python",
   "name": "python3"
  },
  "language_info": {
   "codemirror_mode": {
    "name": "ipython",
    "version": 3
   },
   "file_extension": ".py",
   "mimetype": "text/x-python",
   "name": "python",
   "nbconvert_exporter": "python",
   "pygments_lexer": "ipython3",
   "version": "3.11.2"
  }
 },
 "nbformat": 4,
 "nbformat_minor": 5
}
